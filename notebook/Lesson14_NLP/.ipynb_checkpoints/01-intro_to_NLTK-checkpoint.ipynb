{
 "cells": [
  {
   "cell_type": "markdown",
   "metadata": {},
   "source": [
    "# Natural Language Toolkit (NLTK)\n",
    "\n",
    "The [NLTK](http://www.nltk.org/) module is a massive tool kit, aimed at helping you with the entire Natural Language Processing (NLP) methodology. NLTK will aid you with everything from splitting sentences from paragraphs, splitting up words, recognizing the part of speech of those words, highlighting the main subjects, and then even with helping your machine to understand what the text is all about. In this module, we're going to tackle the field of opinion mining, or sentiment analysis.\n",
    "\n",
    "[Natural Language Processing](http://nltk.org/book) with Python provides a practical introduction to programming for language processing. Written by the creators of NLTK, it guides the reader through the fundamentals of writing Python programs, working with corpora, categorizing text, analyzing linguistic structure, and more. The notebook is being updated for Python 3 and NLTK 3. (The original Python 2 version is still available at http://nltk.org/book_1ed.)"
   ]
  },
  {
   "cell_type": "markdown",
   "metadata": {},
   "source": [
    "## NLTK Example Texts\n",
    "\n",
    "The first step is to import the ``nltk`` library and to load some example texts."
   ]
  },
  {
   "cell_type": "code",
   "execution_count": 2,
   "metadata": {},
   "outputs": [],
   "source": [
    "import nltk\n",
    "import matplotlib.pyplot as plt\n",
    "%matplotlib inline"
   ]
  },
  {
   "cell_type": "code",
   "execution_count": 3,
   "metadata": {},
   "outputs": [
    {
     "name": "stdout",
     "output_type": "stream",
     "text": [
      "showing info https://raw.githubusercontent.com/nltk/nltk_data/gh-pages/index.xml\n"
     ]
    },
    {
     "data": {
      "text/plain": [
       "True"
      ]
     },
     "execution_count": 3,
     "metadata": {},
     "output_type": "execute_result"
    }
   ],
   "source": [
    "nltk.download() #need to download using nltk downloader and download popular"
   ]
  },
  {
   "cell_type": "markdown",
   "metadata": {},
   "source": [
    "## The Basics\n",
    "\n",
    "Some simple things you can do with NLTK\n",
    "\n",
    "**Tokenize and tag some text:**\n",
    "\n",
    "Given a character sequence and a defined document unit, tokenization is the task of chopping it up into pieces, called tokens , perhaps at the same time throwing away certain characters, such as punctuation."
   ]
  },
  {
   "cell_type": "code",
   "execution_count": 4,
   "metadata": {},
   "outputs": [],
   "source": [
    "sentence = \"At eight o'clock on Friday morning. Jason did nt feel very good.\"\n",
    "tokens = nltk.word_tokenize(sentence)"
   ]
  },
  {
   "cell_type": "code",
   "execution_count": 5,
   "metadata": {},
   "outputs": [
    {
     "data": {
      "text/plain": [
       "[('At', 'IN'),\n",
       " ('eight', 'CD'),\n",
       " (\"o'clock\", 'NN'),\n",
       " ('on', 'IN'),\n",
       " ('Friday', 'NNP'),\n",
       " ('morning', 'NN')]"
      ]
     },
     "execution_count": 5,
     "metadata": {},
     "output_type": "execute_result"
    }
   ],
   "source": [
    "tagged = nltk.pos_tag(tokens)\n",
    "tagged[0:6]"
   ]
  },
  {
   "cell_type": "markdown",
   "metadata": {},
   "source": [
    "**Identify named entities:**"
   ]
  },
  {
   "cell_type": "code",
   "execution_count": 6,
   "metadata": {},
   "outputs": [
    {
     "name": "stdout",
     "output_type": "stream",
     "text": [
      "C:\\Users\\A1825\\AppData\\Local\\Continuum\\anaconda3\\envs\\ubaru\\DLLs;C:\\Users\\A1825\\AppData\\Local\\Continuum\\anaconda3\\envs\\ubaru\\Library\\bin;C:\\Users\\A1825\\AppData\\Local\\Continuum\\anaconda3\\envs\\ubaru\\Library\\bin;C:\\Users\\A1825\\AppData\\Local\\Continuum\\anaconda3\\envs\\ubaru;C:\\Users\\A1825\\AppData\\Local\\Continuum\\anaconda3\\envs\\ubaru\\Library\\mingw-w64\\bin;C:\\Users\\A1825\\AppData\\Local\\Continuum\\anaconda3\\envs\\ubaru\\Library\\usr\\bin;C:\\Users\\A1825\\AppData\\Local\\Continuum\\anaconda3\\envs\\ubaru\\Library\\bin;C:\\Users\\A1825\\AppData\\Local\\Continuum\\anaconda3\\envs\\ubaru\\Scripts;C:\\Users\\A1825\\AppData\\Local\\Continuum\\anaconda3\\envs\\ubaru\\bin;C:\\Users\\A1825\\AppData\\Local\\Continuum\\anaconda3;C:\\Users\\A1825\\AppData\\Local\\Continuum\\anaconda3\\Library\\mingw-w64\\bin;C:\\Users\\A1825\\AppData\\Local\\Continuum\\anaconda3\\Library\\usr\\bin;C:\\Users\\A1825\\AppData\\Local\\Continuum\\anaconda3\\Library\\bin;C:\\Users\\A1825\\AppData\\Local\\Continuum\\anaconda3\\Scripts;C:\\Users\\A1825\\AppData\\Local\\Continuum\\anaconda3\\Library\\bin;C:\\Program Files\\NVIDIA GPU Computing Toolkit\\CUDA\\v9.1\\bin;C:\\Program Files\\NVIDIA GPU Computing Toolkit\\CUDA\\v9.1\\libnvvp;C:\\Program Files\\NVIDIA GPU Computing Toolkit\\CUDA\\v8.0\\bin;C:\\Program Files\\NVIDIA GPU Computing Toolkit\\CUDA\\v8.0\\libnvvp;C:\\ProgramData\\Oracle\\Java\\javapath;C:\\WINDOWS\\system32;C:\\WINDOWS;C:\\WINDOWS\\System32\\Wbem;C:\\WINDOWS\\System32\\WindowsPowerShell\\v1.0\\;C:\\Program Files\\Git\\cmd;C:\\Program Files\\nodejs\\;C:\\Program Files (x86)\\NVIDIA Corporation\\PhysX\\Common;C:\\Program Files\\Intel\\WiFi\\bin\\;C:\\Program Files\\Common Files\\Intel\\WirelessCommon\\;C:\\Program Files\\dotnet\\;C:\\Program Files\\Microsoft SQL Server\\130\\Tools\\Binn\\;C:\\Program Files\\gs\\gs9.23\\bin;C:\\Users\\A1825\\AppData\\Local\\Microsoft\\WindowsApps;C:\\Program Files\\Microsoft VS Code\\bin;C:\\Users\\A1825\\AppData\\Roaming\\npm;C:\\Program Files\\Heroku\\bin;C:\\Program Files\\gs\\gs9.23\\bin;;C:\\Users\\A1825\\AppData\\Local\\Continuum\\anaconda3\\envs\\ubaru\\lib\\site-packages\\numpy\\.libs\n"
     ]
    }
   ],
   "source": [
    "import os; \n",
    "print (os.environ['PATH'])"
   ]
  },
  {
   "cell_type": "code",
   "execution_count": 7,
   "metadata": {},
   "outputs": [
    {
     "data": {
      "image/png": "[encoded data removed]",
      "text/plain": [
       "Tree('S', [('At', 'IN'), ('eight', 'CD'), (\"o'clock\", 'NN'), ('on', 'IN'), ('Friday', 'NNP'), ('morning', 'NN'), ('.', '.'), Tree('PERSON', [('Jason', 'NNP')]), ('did', 'VBD'), ('nt', 'JJ'), ('feel', 'VB'), ('very', 'RB'), ('good', 'JJ'), ('.', '.')])"
      ]
     },
     "execution_count": 7,
     "metadata": {},
     "output_type": "execute_result"
    }
   ],
   "source": [
    "#you need to download ghostscript installer from https://www.ghostscript.com/download/gsdnld.html \n",
    "\n",
    "# import os\n",
    "from nltk import word_tokenize, pos_tag, ne_chunk\n",
    "\n",
    "# path_to_gs = \"C:\\Program Files\\gs\\gs9.22\\bin\"\n",
    "# path_to_gs = \"C:\\Program Files\\gs\\gs9.23\\bin\"\n",
    "# os.environ['PATH'] += os.pathsep + path_to_gs\n",
    "\n",
    "entities = nltk.chunk.ne_chunk(tagged)\n",
    "entities"
   ]
  },
  {
   "cell_type": "markdown",
   "metadata": {},
   "source": [
    "**Display a parse tree:**"
   ]
  },
  {
   "cell_type": "code",
   "execution_count": 9,
   "metadata": {},
   "outputs": [],
   "source": [
    "from nltk.corpus import treebank\n",
    "t = treebank.parsed_sents('wsj_0001.mrg')[0]\n",
    "t.draw()"
   ]
  },
  {
   "cell_type": "code",
   "execution_count": 10,
   "metadata": {},
   "outputs": [
    {
     "name": "stdout",
     "output_type": "stream",
     "text": [
      "*** Introductory Examples for the NLTK Book ***\n",
      "Loading text1, ..., text9 and sent1, ..., sent9\n",
      "Type the name of the text or sentence to view it.\n",
      "Type: 'texts()' or 'sents()' to list the materials.\n",
      "text1: Moby Dick by Herman Melville 1851\n",
      "text2: Sense and Sensibility by Jane Austen 1811\n",
      "text3: The Book of Genesis\n",
      "text4: Inaugural Address Corpus\n",
      "text5: Chat Corpus\n",
      "text6: Monty Python and the Holy Grail\n",
      "text7: Wall Street Journal\n",
      "text8: Personals Corpus\n",
      "text9: The Man Who Was Thursday by G . K . Chesterton 1908\n"
     ]
    }
   ],
   "source": [
    "from nltk.book import *"
   ]
  },
  {
   "cell_type": "markdown",
   "metadata": {},
   "source": [
    "## Dispersion Plots\n",
    "\n",
    "A lexical dispersion plot will plot occurences of words in a text."
   ]
  },
  {
   "cell_type": "code",
   "execution_count": 9,
   "metadata": {},
   "outputs": [
    {
     "data": {
      "image/png": "[encoded data removed]",
      "text/plain": [
       "<matplotlib.figure.Figure at 0x1a5502efc50>"
      ]
     },
     "metadata": {},
     "output_type": "display_data"
    }
   ],
   "source": [
    "text1.dispersion_plot(['Ahab','whale','Ishmael','Queequeg', 'Moby', 'dive'])"
   ]
  },
  {
   "cell_type": "code",
   "execution_count": 11,
   "metadata": {},
   "outputs": [
    {
     "data": {
      "image/png": "[encoded data removed]",
      "text/plain": [
       "<matplotlib.figure.Figure at 0x1a54cb26fd0>"
      ]
     },
     "metadata": {},
     "output_type": "display_data"
    }
   ],
   "source": [
    "text4.dispersion_plot([\"citizens\", \"democracy\", \"freedom\", \"duties\", \"America\"])"
   ]
  },
  {
   "cell_type": "markdown",
   "metadata": {},
   "source": [
    "## Concordances\n",
    "\n",
    "There are many ways to examine the context of a text apart from simply reading it. A concordance view shows us every occurrence of a given word, together with some context. Here we look up the word monstrous in Moby Dick by entering text1 followed by a period, then the term concordance, and then placing \"monstrous\" in parentheses:"
   ]
  },
  {
   "cell_type": "code",
   "execution_count": 12,
   "metadata": {},
   "outputs": [
    {
     "name": "stdout",
     "output_type": "stream",
     "text": [
      "Displaying 11 of 11 matches:\n",
      "ong the former , one was of a most monstrous size . ... This came towards us , \n",
      "ON OF THE PSALMS . \" Touching that monstrous bulk of the whale or ork we have r\n",
      "ll over with a heathenish array of monstrous clubs and spears . Some were thick\n",
      "d as you gazed , and wondered what monstrous cannibal and savage could ever hav\n",
      "that has survived the flood ; most monstrous and most mountainous ! That Himmal\n",
      "they might scout at Moby Dick as a monstrous fable , or still worse and more de\n",
      "th of Radney .'\" CHAPTER 55 Of the Monstrous Pictures of Whales . I shall ere l\n",
      "ing Scenes . In connexion with the monstrous pictures of whales , I am strongly\n",
      "ere to enter upon those still more monstrous stories of them which are to be fo\n",
      "ght have been rummaged out of this monstrous cabinet there is no telling . But \n",
      "of Whale - Bones ; for Whales of a monstrous size are oftentimes cast up dead u\n"
     ]
    }
   ],
   "source": [
    "text1.concordance('monstrous')"
   ]
  },
  {
   "cell_type": "markdown",
   "metadata": {},
   "source": [
    "## Exercise\n",
    "\n",
    "Try searching for other words; to save re-typing, you might be able to use up-arrow, Ctrl-up-arrow or Alt-p to access the previous command and modify the word being searched. You can also try searches on some of the other texts we have included.\n",
    "\n",
    "- Search `Sense and Sensibility` for the word `affection`, using `text2.concordance(\"affection\")`\n",
    "- Search the book of Genesis to find out how long some people lived, using `text3.concordance(\"lived\")`.\n",
    "- Search for words such as `nation`, `terror`, `god` in `text4`\n",
    "- Search for unconventional words like `im`, `ur`, `lol` in `text5`, the NPS Chat Corpus"
   ]
  },
  {
   "cell_type": "code",
   "execution_count": 13,
   "metadata": {},
   "outputs": [
    {
     "name": "stdout",
     "output_type": "stream",
     "text": [
      "Displaying 25 of 822 matches:\n",
      "ast PART 24 / m boo . 26 / m and sexy lol U115 boo . JOIN PART he drew a girl w\n",
      "ope he didnt draw a penis PART ewwwww lol & a head between her legs JOIN JOIN s\n",
      "a bowl i got a blunt an a bong ...... lol JOIN well , glad it worked out my cha\n",
      "e \" PART Hi U121 in ny . ACTION would lol @ U121 . . . but appearently she does\n",
      "30 make sure u buy a nice ring for U6 lol U7 Hi U115 . ACTION isnt falling for \n",
      " didnt ya hear !!!! PART JOIN geeshhh lol U6 PART hes deaf ppl here dont get it\n",
      "es nobody here i wanna misbeahve with lol JOIN so read it . thanks U7 .. Im hap\n",
      "ies want to chat can i talk to him !! lol U121 !!! forwards too lol JOIN ALL PE\n",
      "k to him !! lol U121 !!! forwards too lol JOIN ALL PErvs ... redirect to U121 '\n",
      " loves ME the most i love myself JOIN lol U44 how do u know that what ? jerkett\n",
      "ng wrong ... i can see it in his eyes lol U20 = fiance Jerketts lmao wtf yah I \n",
      "cooler by the minute what 'd I miss ? lol noo there too much work ! why not ?? \n",
      " that mean I want you ? U6 hello room lol U83 and this .. has been the grammar \n",
      " the rule he 's in PM land now though lol ah ok i wont bug em then someone wann\n",
      "flight to hell :) lmao bbl maybe PART LOL lol U7 it was me , U83 hahah U83 ! 80\n",
      "ht to hell :) lmao bbl maybe PART LOL lol U7 it was me , U83 hahah U83 ! 808265\n",
      "082653953 K-Fed got his ass kicked .. Lol . ACTION laughs . i got a first class\n",
      " . i got a first class ticket to hell lol U7 JOIN any texas girls in here ? any\n",
      " . whats up U155 i was only kidding . lol he 's a douchebag . Poor U121 i 'm bo\n",
      " ??? sits with U30 Cum to my shower . lol U121 . ACTION U1370 watches his nads \n",
      " ur nad with a stick . ca u U23 ewwww lol *sniffs* ewwwwww PART U115 ! owww spl\n",
      "ACTION is resisting . ur female right lol U115 beeeeehave Remember the LAst tim\n",
      "pm's me . charge that is 1.99 / min . lol @ innocent hahah lol .... yeah LOLOLO\n",
      " is 1.99 / min . lol @ innocent hahah lol .... yeah LOLOLOLLL U12 thats not nic\n",
      "s . lmao no U115 Check my record . :) Lol lick em U7 U23 how old r u lol Way to\n",
      "Displaying 21 of 21 matches:\n",
      "k up PART no i dont want daughters !! ur annoying . ACTION Now Playing - Cradl\n",
      "ooo U92 !!!!!! . ACTION U1370 watches ur nad with a stick . ca u U23 ewwww lol\n",
      "er lip . Meep . ACTION is resisting . ur female right lol U115 beeeeehave Reme\n",
      " geeshh ... two kids fighting ! whats ur major i probably sucks in summer too \n",
      "II Men scorpions rock ... lol what is ur job me too U11 hehe went to manhattan\n",
      "e no one i like to say if u have done ur time then that is that U42 Ok U37 , i\n",
      "hat a ride JOIN ty ty cheers babes .. ur the first to follow up with the pseud\n",
      " charger \\ty LoL yeah ;-) well i hope ur doing ok .. i 'm dojn fine babe . . g\n",
      " gonna rock up soojn and rob u of all ur ' candy ' :) as long as you are happy\n",
      "genital warts ? LoL moped U28 ?.. ohh ur a real man i had a moped once yup heh\n",
      "b-day is in 5 days =( PART LOL U35 no ur nawt yup your gay lmao U37 dang come \n",
      " people talk to me anymore oh because ur gay . PART PART . ACTION = U58 . Man \n",
      " om hi U73 heya U7 ! h shit i get all ur money now fawker ok girl lol JOIN ed \n",
      "hat tired huh U66 ? lol U75 ... bring ur pillow get comfy U70 yep , off to bed\n",
      "talked to hi sean . ACTION whispers : ur a douche . who PART . ACTION whispers\n",
      "ew england usa ? U7 .. it adds wax to ur clothes .. u think cottons breathe ?.\n",
      "ver knew what flavor to get specially ur towels lol U31 < whistles > U34 U39 I\n",
      "cks out U7 s pic JOIN PART U41 Hi U41 ur gettin pretty savvy there U39 ahhh ..\n",
      "om ? brb U30 a week .. heck a day and ur problem there , U30 ??? Hi U34 hartfo\n",
      " JOIN U57 Whats really good room JOIN ur telllin me hey any uk girls her ? JOI\n",
      "JOIN PART JOIN JOIN yea guitar rocker ur kool u lil guitar rocker PART whats e\n",
      "Displaying 25 of 149 matches:\n",
      "                                      im left with this gay name :P PART hey e\n",
      "what did you but on e-bay i feel like im in the wrong room yeee haw U30 im con\n",
      "ike im in the wrong room yeee haw U30 im considering changing my nickname to \"\n",
      " the hell outta my freaking PM box .. Im with my fiance !!!!!!!!!!!!!!!! answe\n",
      "m impressed . PART hiya room lmao !!! im doin alright thanks omg Finger .. Dee\n",
      "th lol JOIN so read it . thanks U7 .. Im happy to have my fiance here !! forwa\n",
      "i didnt me phone you . . . sheesh now im that phone perv guy lets hope not U12\n",
      "to spain ? i need to go this summer . im a HUGE phone perv ok seriously who wa\n",
      "an ... . ACTION video tapes . hey U20 Im blind now . ACTION has left the room \n",
      "T u got that right , i dont do shit , im the supervisor Hello U165 . hey U165 \n",
      " him in the \" untouchable \" list U115 im good U6 lmao U7 how r u U128 hehe how\n",
      "can I ask where ya all are from ..... im here in kentucky as I said ... too wi\n",
      "ic but had to resize and stuff U37 no im an equal oppertunity hater LOL Hi , U\n",
      "he cover weeeeeeeee thanks U19 ! PART im out in cal now U3 looking at some new\n",
      " :) hi U58 lol wb U29 hi U29 U13 .... im down to time now PART Hello U24 , wel\n",
      ", I 'd never kick you outta my box hi im good thanks U16 yerself ?? PART inter\n",
      "ke wth . . who are you even ty U34 yw Im glad he 's back . awwww U16 i like ps\n",
      " ha U23 !!! wow ... are you the U39 ? Im talkin about all yer typin . . It 's \n",
      "... you ??? Apparently , I 'm not U41 im good U23 dear . How are you U23 ~wink\n",
      "~ U35 ... I love that 5 am phone call im good ... me and eric r back together \n",
      " , I am happy . You know i LuverZ YOU im the same busy busy oh ok then U1 nm l\n",
      "))) . ACTION stretches . ty U19 Ugh , Im so sore ! Repeatedly , with a big sti\n",
      "'m a size queen U41 Why U45 ? naw U23 im cheating on you with Jayse hes hawt t\n",
      "oeer is sum1 gonna ghet fuked up ? :) im always hungry yeah U45 .. i believe i\n",
      "without first asking permission . U35 im sorry U35 i tried to refrain me too U\n"
     ]
    }
   ],
   "source": [
    "text5.concordance(\"lol\")\n",
    "text5.concordance(\"ur\")\n",
    "text5.concordance(\"im\")"
   ]
  },
  {
   "cell_type": "code",
   "execution_count": 14,
   "metadata": {},
   "outputs": [
    {
     "name": "stdout",
     "output_type": "stream",
     "text": [
      "Displaying 25 of 79 matches:\n",
      ", however , and , as a mark of his affection for the three girls , he left them\n",
      "t . It was very well known that no affection was ever supposed to exist between\n",
      "deration of politeness or maternal affection on the side of the former , the tw\n",
      "d the suspicion -- the hope of his affection for me may warrant , without impru\n",
      "hich forbade the indulgence of his affection . She knew that his mother neither\n",
      "rd she gave one with still greater affection . Though her late conversation wit\n",
      " can never hope to feel or inspire affection again , and if her home be uncomfo\n",
      "m of the sense , elegance , mutual affection , and domestic comfort of the fami\n",
      ", and which recommended him to her affection beyond every thing else . His soci\n",
      "ween the parties might forward the affection of Mr . Willoughby , an equally st\n",
      " the most pointed assurance of her affection . Elinor could not be surprised at\n",
      "he natural consequence of a strong affection in a young and ardent mind . This \n",
      " opinion . But by an appeal to her affection for her mother , by representing t\n",
      " every alteration of a place which affection had established as perfect with hi\n",
      "e will always have one claim of my affection , which no other can possibly shar\n",
      "f the evening declared at once his affection and happiness . \" Shall we see you\n",
      "ause he took leave of us with less affection than his usual behaviour has shewn\n",
      "ness .\" \" I want no proof of their affection ,\" said Elinor ; \" but of their en\n",
      "onths , without telling her of his affection ;-- that they should part without \n",
      "ould be the natural result of your affection for her . She used to be all unres\n",
      "distinguished Elinor by no mark of affection . Marianne saw and listened with i\n",
      "th no inclination for expense , no affection for strangers , no profession , an\n",
      "till distinguished her by the same affection which once she had felt no doubt o\n",
      "al of her confidence in Edward ' s affection , to the remembrance of every mark\n",
      " was made ? Had he never owned his affection to yourself ?\" \" Oh , no ; but if \n"
     ]
    }
   ],
   "source": [
    "text2.concordance(\"affection\")"
   ]
  },
  {
   "cell_type": "code",
   "execution_count": 15,
   "metadata": {},
   "outputs": [
    {
     "name": "stdout",
     "output_type": "stream",
     "text": [
      "Displaying 25 of 38 matches:\n",
      "ay when they were created . And Adam lived an hundred and thirty years , and be\n",
      "ughters : And all the days that Adam lived were nine hundred and thirty yea and\n",
      "nd thirty yea and he died . And Seth lived an hundred and five years , and bega\n",
      "ve years , and begat Enos : And Seth lived after he begat Enos eight hundred an\n",
      "welve years : and he died . And Enos lived ninety years , and begat Cainan : An\n",
      " years , and begat Cainan : And Enos lived after he begat Cainan eight hundred \n",
      "ive years : and he died . And Cainan lived seventy years and begat Mahalaleel :\n",
      "rs and begat Mahalaleel : And Cainan lived after he begat Mahalaleel eight hund\n",
      "years : and he died . And Mahalaleel lived sixty and five years , and begat Jar\n",
      "s , and begat Jared : And Mahalaleel lived after he begat Jared eight hundred a\n",
      "and five yea and he died . And Jared lived an hundred sixty and two years , and\n",
      "o years , and he begat Eno And Jared lived after he begat Enoch eight hundred y\n",
      " and two yea and he died . And Enoch lived sixty and five years , and begat Met\n",
      " ; for God took him . And Methuselah lived an hundred eighty and seven years , \n",
      " , and begat Lamech . And Methuselah lived after he begat Lamech seven hundred \n",
      "nd nine yea and he died . And Lamech lived an hundred eighty and two years , an\n",
      "ch the LORD hath cursed . And Lamech lived after he begat Noah five hundred nin\n",
      "naan shall be his servant . And Noah lived after the flood three hundred and fi\n",
      "xad two years after the flo And Shem lived after he begat Arphaxad five hundred\n",
      "at sons and daughters . And Arphaxad lived five and thirty years , and begat Sa\n",
      "ars , and begat Salah : And Arphaxad lived after he begat Salah four hundred an\n",
      "begat sons and daughters . And Salah lived thirty years , and begat Eber : And \n",
      "y years , and begat Eber : And Salah lived after he begat Eber four hundred and\n",
      " begat sons and daughters . And Eber lived four and thirty years , and begat Pe\n",
      "y years , and begat Peleg : And Eber lived after he begat Peleg four hundred an\n"
     ]
    }
   ],
   "source": [
    "text3.concordance(\"lived\")"
   ]
  },
  {
   "cell_type": "code",
   "execution_count": 16,
   "metadata": {},
   "outputs": [
    {
     "name": "stdout",
     "output_type": "stream",
     "text": [
      "Displaying 25 of 98 matches:\n",
      "eliance on the protection of Almighty God , I shall forthwith commence the duti\n",
      "humble , acknowledged dependence upon God and His overruling providence . We ha\n",
      "great office I must humbly invoke the God of our fathers for wisdom and firmnes\n",
      "d the same Bible and pray to the same God , and each invokes His aid against th\n",
      "hat any men should dare to ask a just God ' s assistance in wringing their brea\n",
      "offenses which , in the providence of God , must needs come , but which , havin\n",
      "butes which the believers in a living God always ascribe to Him ? Fondly do we \n",
      "war may speedily pass away . Yet , if God wills that it continue until all the \n",
      "r all , with firmness in the right as God gives us to see the right , let us st\n",
      "the prayers of the nation to Almighty God in behalf of this consummation . Fell\n",
      "r , they have \" followed the light as God gave them to see the light .\" They ar\n",
      "ess their fathers and their fathers ' God that the Union was preserved , that s\n",
      "the support and blessings of Almighty God . Fellow citizens , in the presence o\n",
      "ng the power and goodness of Almighty God , who presides over the destiny of na\n",
      "expect the favor and help of Almighty God -- that He will give to me wisdom , s\n",
      " suggestion to enterprise and labor . God has placed upon our head a diadem and\n",
      "urn than the pledge I now give before God and these witnesses of unreserved and\n",
      "han human life can escape the laws of God and nature . Manifestly nothing is mo\n",
      "and invoking the guidance of Almighty God . Our faith teaches that there is no \n",
      "re is no safer reliance than upon the God of our fathers , who has so singularl\n",
      "e the direction and favor of Almighty God . I should shrink from the duties thi\n",
      " devolve upon it , and in the fear of God will \" take occasion by the hand and \n",
      " citizens and the aid of the Almighty God in the discharge of my responsible du\n",
      "our heartstrings like some air out of God ' s own presence , where justice and \n",
      " forward - looking men , to my side . God helping me , I will not fail them , i\n"
     ]
    }
   ],
   "source": [
    "# text4.concordance(\"nation\")\n",
    "# text4.concordance(\"terror\")\n",
    "text4.concordance(\"god\")"
   ]
  },
  {
   "cell_type": "code",
   "execution_count": null,
   "metadata": {},
   "outputs": [],
   "source": []
  },
  {
   "cell_type": "markdown",
   "metadata": {},
   "source": [
    "## Similar\n",
    "\n",
    "A concordance permits us to see words in context. For example, we saw that `monstrous` occurred in contexts such as `the ___ pictures and a ___ size`. What other words appear in a similar range of contexts? We can find out by appending the term `similar` to the name of the text in question, then inserting the relevant word in parentheses:"
   ]
  },
  {
   "cell_type": "code",
   "execution_count": 17,
   "metadata": {},
   "outputs": [
    {
     "name": "stdout",
     "output_type": "stream",
     "text": [
      "true contemptible christian abundant few part mean careful puzzled\n",
      "mystifying passing curious loving wise doleful gamesome singular\n",
      "delightfully perilous fearless\n"
     ]
    }
   ],
   "source": [
    "text1.similar('monstrous')"
   ]
  },
  {
   "cell_type": "code",
   "execution_count": 18,
   "metadata": {},
   "outputs": [
    {
     "name": "stdout",
     "output_type": "stream",
     "text": [
      "ship boat sea time captain world man deck pequod other whales air\n",
      "water head crew line thing side way body\n"
     ]
    }
   ],
   "source": [
    "text1.similar('whale')"
   ]
  },
  {
   "cell_type": "code",
   "execution_count": 19,
   "metadata": {},
   "outputs": [
    {
     "name": "stdout",
     "output_type": "stream",
     "text": [
      "Sperm Whale; Moby Dick; White Whale; old man; Captain Ahab; sperm\n",
      "whale; Right Whale; Captain Peleg; New Bedford; Cape Horn; cried Ahab;\n",
      "years ago; lower jaw; never mind; Father Mapple; cried Stubb; chief\n",
      "mate; white whale; ivory leg; one hand\n"
     ]
    }
   ],
   "source": [
    "text1.collocations()"
   ]
  },
  {
   "cell_type": "code",
   "execution_count": 20,
   "metadata": {},
   "outputs": [
    {
     "name": "stdout",
     "output_type": "stream",
     "text": [
      "Displaying 20 of 20 matches:\n",
      "SONG . CHAPTER 1 Loomings . Call me Ishmael . Some years ago -- never mind how \n",
      "ED STATES . \" WHALING VOYAGE BY ONE ISHMAEL . \" BLOODY BATTLE IN AFFGHANISTAN .\n",
      "f silver ,-- So , wherever you go , Ishmael , said I to myself , as I stood in \n",
      "de to lodge for the night , my dear Ishmael , be sure to inquire the price , an\n",
      "nkling glasses within . But go on , Ishmael , said I at last ; don ' t you hear\n",
      "g and teeth - gnashing there . Ha , Ishmael , muttered I , backing out , Wretch\n",
      "emen who had gone before me . Yes , Ishmael , the same fate may be thine . But \n",
      " ? thought I . Do you suppose now , Ishmael , that the magnanimous God of heave\n",
      "l , which , if left to myself , I , Ishmael , should infallibly light upon , fo\n",
      " Bildad . Now then , my young man , Ishmael ' s thy name , didn ' t ye say ? We\n",
      "say ? Well then , down ye go here , Ishmael , for the three hundredth lay .\" \" \n",
      "why don ' t you speak ? It ' s I -- Ishmael .\" But all remained still as before\n",
      "l fear ! CHAPTER 41 Moby Dick . I , Ishmael , was one of that crew ; my shouts \n",
      "lain , would be to dive deeper than Ishmael can go . The subterranean miner tha\n",
      "oul ; thou surrenderest to a hypo , Ishmael . Tell me , why this strong young c\n",
      " snows of prairies ; all these , to Ishmael , are as the shaking of that buffal\n",
      "ubtle meanings , how may unlettered Ishmael hope to read the awful Chaldee of t\n",
      "onditional skeleton . But how now , Ishmael ? How is it , that you , a mere oar\n",
      " for exhibition ? Explain thyself , Ishmael . Can you land a full - grown whale\n",
      "le witness have you hitherto been , Ishmael ; but have a care how you seize the\n"
     ]
    }
   ],
   "source": [
    "text1.concordance(\"ishmael\")"
   ]
  },
  {
   "cell_type": "code",
   "execution_count": 21,
   "metadata": {},
   "outputs": [
    {
     "name": "stdout",
     "output_type": "stream",
     "text": [
      "Displaying 11 of 11 matches:\n",
      ". \" Now , Palmer , you shall see a monstrous pretty girl .\" He immediately went\n",
      "your sister is to marry him . I am monstrous glad of it , for then I shall have\n",
      "ou may tell your sister . She is a monstrous lucky girl to get him , upon my ho\n",
      "k how you will like them . Lucy is monstrous pretty , and so good humoured and \n",
      " Jennings , \" I am sure I shall be monstrous glad of Miss Marianne ' s company \n",
      " usual noisy cheerfulness , \" I am monstrous glad to see you -- sorry I could n\n",
      "t however , as it turns out , I am monstrous glad there was never any thing in \n",
      "so scornfully ! for they say he is monstrous fond of her , as well he may . I s\n",
      "possible that she should .\" \" I am monstrous glad of it . Good gracious ! I hav\n",
      "thing of the kind . So then he was monstrous happy , and talked on some time ab\n",
      "e very genteel people . He makes a monstrous deal of money , and they keep thei\n"
     ]
    }
   ],
   "source": [
    "text2.concordance(\"monstrous\")"
   ]
  },
  {
   "cell_type": "code",
   "execution_count": 22,
   "metadata": {},
   "outputs": [
    {
     "name": "stdout",
     "output_type": "stream",
     "text": [
      "very so exceedingly heartily a as good great extremely remarkably\n",
      "sweet vast amazingly\n"
     ]
    }
   ],
   "source": [
    "text2.similar(\"monstrous\")"
   ]
  },
  {
   "cell_type": "markdown",
   "metadata": {},
   "source": [
    "## Lexical Diversity\n",
    "\n",
    "Lexical diversity is a measure of how many different words that are used in a text, while lexical density provides a measure of the proportion of lexical items (i.e. nouns, verbs, adjectives and some adverbs) in the text."
   ]
  },
  {
   "cell_type": "code",
   "execution_count": 23,
   "metadata": {},
   "outputs": [],
   "source": [
    "def lexical_diversity(text):\n",
    "    return len(text)/(1.0*len(set(text)))\n",
    "\n",
    "def percentage(count, total):\n",
    "    return 100*count/total"
   ]
  },
  {
   "cell_type": "code",
   "execution_count": 24,
   "metadata": {},
   "outputs": [
    {
     "data": {
      "text/plain": [
       "16.050197203298673"
      ]
     },
     "execution_count": 24,
     "metadata": {},
     "output_type": "execute_result"
    }
   ],
   "source": [
    "lexical_diversity(text3)"
   ]
  },
  {
   "cell_type": "code",
   "execution_count": 25,
   "metadata": {},
   "outputs": [
    {
     "data": {
      "text/plain": [
       "14.941049825712529"
      ]
     },
     "execution_count": 25,
     "metadata": {},
     "output_type": "execute_result"
    }
   ],
   "source": [
    "lexical_diversity(text4)"
   ]
  },
  {
   "cell_type": "code",
   "execution_count": 26,
   "metadata": {},
   "outputs": [
    {
     "data": {
      "text/plain": [
       "7.420046158918563"
      ]
     },
     "execution_count": 26,
     "metadata": {},
     "output_type": "execute_result"
    }
   ],
   "source": [
    "lexical_diversity(text5)"
   ]
  },
  {
   "cell_type": "code",
   "execution_count": 27,
   "metadata": {},
   "outputs": [],
   "source": [
    "fdist1 = FreqDist(text1)"
   ]
  },
  {
   "cell_type": "code",
   "execution_count": 28,
   "metadata": {},
   "outputs": [],
   "source": [
    "vocabulary1 = fdist1.keys()"
   ]
  },
  {
   "cell_type": "code",
   "execution_count": 29,
   "metadata": {},
   "outputs": [
    {
     "data": {
      "text/plain": [
       "906"
      ]
     },
     "execution_count": 29,
     "metadata": {},
     "output_type": "execute_result"
    }
   ],
   "source": [
    "fdist1['whale']"
   ]
  },
  {
   "cell_type": "code",
   "execution_count": 30,
   "metadata": {},
   "outputs": [
    {
     "data": {
      "text/plain": [
       "10"
      ]
     },
     "execution_count": 30,
     "metadata": {},
     "output_type": "execute_result"
    }
   ],
   "source": [
    "fdist1['monstrous']"
   ]
  },
  {
   "cell_type": "code",
   "execution_count": 31,
   "metadata": {},
   "outputs": [
    {
     "data": {
      "image/png": "[encoded data removed]",
      "text/plain": [
       "<matplotlib.figure.Figure at 0x1a568dc47f0>"
      ]
     },
     "metadata": {},
     "output_type": "display_data"
    }
   ],
   "source": [
    "fdist1.plot(50, cumulative=True)"
   ]
  },
  {
   "cell_type": "code",
   "execution_count": 32,
   "metadata": {},
   "outputs": [
    {
     "name": "stdout",
     "output_type": "stream",
     "text": [
      "9002\n",
      "['bordered', 'infidelities', 'gnaw', 'resurrections', 'placelessly', 'Goodwin', 'Sands', 'prefix', 'entitle', 'embarks']\n"
     ]
    }
   ],
   "source": [
    "hapaxes1 = fdist1.hapaxes()\n",
    "print (len(hapaxes1))\n",
    "print (hapaxes1[1000:1010])"
   ]
  },
  {
   "cell_type": "markdown",
   "metadata": {},
   "source": [
    "## n-grams\n",
    "\n",
    "In the fields of computational linguistics and probability, an n-gram is a contiguous sequence of n items from a given sequence of text or speech. The items can be phonemes, syllables, letters, words or base pairs according to the application. The n-grams typically are collected from a text or speech corpus.\n",
    "\n",
    "N-grams of texts are extensively used in text mining and natural language processing tasks. They are basically a set of co-occuring words within a given window and when computing the n-grams you typically move one word forward (although you can move X words forward in more advanced scenarios). For example, for the sentence **\"The cow jumps over the moon\"**. If N=2 (known as bigrams), then the ngrams would be:\n",
    "\n",
    "- the cow\n",
    "- cow jumps\n",
    "- jumps over\n",
    "- over the\n",
    "- the moon"
   ]
  },
  {
   "cell_type": "code",
   "execution_count": 33,
   "metadata": {},
   "outputs": [
    {
     "name": "stdout",
     "output_type": "stream",
     "text": [
      "THE suburb of Saffron Park lay on the sunset side of London , as red and ragged as a cloud of sunset .\n"
     ]
    }
   ],
   "source": [
    "thursday_sents = nltk.corpus.gutenberg.sents('chesterton-thursday.txt')\n",
    "sent22 = thursday_sents[22]\n",
    "print(' '.join(sent22))"
   ]
  },
  {
   "cell_type": "code",
   "execution_count": 34,
   "metadata": {},
   "outputs": [
    {
     "name": "stdout",
     "output_type": "stream",
     "text": [
      "[('THE', 'suburb'), ('suburb', 'of'), ('of', 'Saffron'), ('Saffron', 'Park'), ('Park', 'lay'), ('lay', 'on'), ('on', 'the'), ('the', 'sunset'), ('sunset', 'side'), ('side', 'of'), ('of', 'London'), ('London', 'as'), ('as', 'red'), ('red', 'and'), ('and', 'ragged'), ('ragged', 'as'), ('as', 'a'), ('a', 'cloud'), ('cloud', 'of'), ('of', 'sunset')]\n"
     ]
    }
   ],
   "source": [
    "from nltk import bigrams\n",
    "\n",
    "bigrams = bigrams(w for w in sent22 if w.isalpha())\n",
    "print (list(bigrams))"
   ]
  },
  {
   "cell_type": "code",
   "execution_count": 35,
   "metadata": {},
   "outputs": [
    {
     "data": {
      "image/png": "[encoded data removed]",
      "text/plain": [
       "<matplotlib.figure.Figure at 0x1a568e3c4a8>"
      ]
     },
     "metadata": {},
     "output_type": "display_data"
    }
   ],
   "source": [
    "import networkx as nx\n",
    "G = nx.Graph()\n",
    "begin_sent = 22\n",
    "end_sent = 24\n",
    "sents = thursday_sents[begin_sent:end_sent+1]\n",
    "for sent in sents:\n",
    "    G.add_edges_from(nltk.bigrams(w for w in sent if w.isalpha()))\n",
    "nx.draw_networkx(G)"
   ]
  },
  {
   "cell_type": "markdown",
   "metadata": {},
   "source": [
    "## Lexical clusters in Dickens\n",
    "\n",
    "Below [BKL] refers to \"Natural Language Processing with Python\" by Bird, Klein and Loper and [MAR] refers to \"Mining the Social Web\" by Matthew A. Russell."
   ]
  },
  {
   "cell_type": "markdown",
   "metadata": {},
   "source": [
    "### Getting the raw text\n",
    "\n",
    "See page 95 of [BKL]."
   ]
  },
  {
   "cell_type": "code",
   "execution_count": 36,
   "metadata": {},
   "outputs": [],
   "source": [
    "import codecs, nltk, pprint\n",
    "hard_times_path = \"../../Data/786-0.txt\"\n",
    "david_copperfield_path = \"../../Data/766-0.txt\"\n",
    "f = codecs.open(hard_times_path, encoding = 'utf-8')\n",
    "david_copperfield_file = codecs.open(david_copperfield_path, encoding = 'utf-8')"
   ]
  },
  {
   "cell_type": "code",
   "execution_count": 37,
   "metadata": {},
   "outputs": [
    {
     "data": {
      "text/plain": [
       "610690"
      ]
     },
     "execution_count": 37,
     "metadata": {},
     "output_type": "execute_result"
    }
   ],
   "source": [
    "# read Hard Times and check the length \n",
    "hard_times_raw_text = f.read()\n",
    "len(hard_times_raw_text)"
   ]
  },
  {
   "cell_type": "code",
   "execution_count": 38,
   "metadata": {},
   "outputs": [
    {
     "data": {
      "text/plain": [
       "1992584"
      ]
     },
     "execution_count": 38,
     "metadata": {},
     "output_type": "execute_result"
    }
   ],
   "source": [
    "# read David Cooperfiled and check the length \n",
    "david_copperfield_raw_text = david_copperfield_file.read()\n",
    "len(david_copperfield_raw_text)"
   ]
  },
  {
   "cell_type": "markdown",
   "metadata": {},
   "source": [
    "### Sentence tokenizing\n",
    "\n",
    "See page 112 of [BKL]."
   ]
  },
  {
   "cell_type": "code",
   "execution_count": 39,
   "metadata": {},
   "outputs": [],
   "source": [
    "sent_tokenizer = nltk.data.load('tokenizers/punkt/english.pickle')\n",
    "sents = sent_tokenizer.tokenize(hard_times_raw_text)"
   ]
  },
  {
   "cell_type": "code",
   "execution_count": 40,
   "metadata": {},
   "outputs": [
    {
     "name": "stdout",
     "output_type": "stream",
     "text": [
      "He had reached the neutral ground upon the outskirts of the town, which\r\n",
      "was neither town nor country, and yet was either spoiled, when his ears\r\n",
      "were invaded by the sound of music.\n"
     ]
    }
   ],
   "source": [
    "print (sents[171])"
   ]
  },
  {
   "cell_type": "code",
   "execution_count": 41,
   "metadata": {},
   "outputs": [
    {
     "data": {
      "text/plain": [
       "4498"
      ]
     },
     "execution_count": 41,
     "metadata": {},
     "output_type": "execute_result"
    }
   ],
   "source": [
    "len(sents)"
   ]
  },
  {
   "cell_type": "markdown",
   "metadata": {},
   "source": [
    "An alternative approach based on [MAR]."
   ]
  },
  {
   "cell_type": "code",
   "execution_count": 42,
   "metadata": {},
   "outputs": [],
   "source": [
    "sents = nltk.tokenize.sent_tokenize(hard_times_raw_text)"
   ]
  },
  {
   "cell_type": "code",
   "execution_count": 43,
   "metadata": {},
   "outputs": [
    {
     "name": "stdout",
     "output_type": "stream",
     "text": [
      "He had reached the neutral ground upon the outskirts of the town, which\r\n",
      "was neither town nor country, and yet was either spoiled, when his ears\r\n",
      "were invaded by the sound of music.\n"
     ]
    }
   ],
   "source": [
    "print (sents[171])"
   ]
  },
  {
   "cell_type": "code",
   "execution_count": 44,
   "metadata": {},
   "outputs": [
    {
     "name": "stdout",
     "output_type": "stream",
     "text": [
      "Copperfield called her by it, because her Christian name\r\n",
      "was the same as mine.’\r\n",
      "\r\n",
      "‘Here!\n"
     ]
    }
   ],
   "source": [
    "DC_sents = nltk.tokenize.sent_tokenize(david_copperfield_raw_text)\n",
    "print (DC_sents[171])"
   ]
  },
  {
   "cell_type": "markdown",
   "metadata": {},
   "source": [
    "### Word tokenizing"
   ]
  },
  {
   "cell_type": "code",
   "execution_count": 45,
   "metadata": {},
   "outputs": [],
   "source": [
    "tokens = [nltk.tokenize.word_tokenize(s) for s in sents]"
   ]
  },
  {
   "cell_type": "code",
   "execution_count": 46,
   "metadata": {},
   "outputs": [
    {
     "data": {
      "text/plain": [
       "4498"
      ]
     },
     "execution_count": 46,
     "metadata": {},
     "output_type": "execute_result"
    }
   ],
   "source": [
    "len(tokens)"
   ]
  },
  {
   "cell_type": "code",
   "execution_count": 47,
   "metadata": {},
   "outputs": [
    {
     "name": "stdout",
     "output_type": "stream",
     "text": [
      "['He', 'had', 'reached', 'the', 'neutral', 'ground', 'upon', 'the', 'outskirts', 'of', 'the', 'town', ',', 'which', 'was', 'neither', 'town', 'nor', 'country', ',', 'and', 'yet', 'was', 'either', 'spoiled', ',', 'when', 'his', 'ears', 'were', 'invaded', 'by', 'the', 'sound', 'of', 'music', '.']\n"
     ]
    }
   ],
   "source": [
    "print (tokens[171])"
   ]
  },
  {
   "cell_type": "code",
   "execution_count": 48,
   "metadata": {},
   "outputs": [],
   "source": [
    "DC_tokens = [nltk.tokenize.word_tokenize(s) for s in DC_sents]"
   ]
  },
  {
   "cell_type": "code",
   "execution_count": 49,
   "metadata": {},
   "outputs": [
    {
     "name": "stdout",
     "output_type": "stream",
     "text": [
      "['Copperfield', 'called', 'her', 'by', 'it', ',', 'because', 'her', 'Christian', 'name', 'was', 'the', 'same', 'as', 'mine.', '’', '‘', 'Here', '!']\n"
     ]
    }
   ],
   "source": [
    "print (DC_tokens[171])"
   ]
  },
  {
   "cell_type": "markdown",
   "metadata": {},
   "source": [
    "### POS tagging\n",
    "\n",
    "A Part-Of-Speech Tagger (POS Tagger) is a piece of software that reads text in some language and assigns parts of speech to each word (and other token), such as noun, verb, adjective, etc., although generally computational applications use more fine-grained POS tags like 'noun-plural'. \n",
    "\n",
    "*Warning: May take some time*"
   ]
  },
  {
   "cell_type": "code",
   "execution_count": 50,
   "metadata": {},
   "outputs": [],
   "source": [
    "pos_tagged_tokens = [nltk.pos_tag(t) for t in tokens]"
   ]
  },
  {
   "cell_type": "code",
   "execution_count": 89,
   "metadata": {},
   "outputs": [
    {
     "data": {
      "text/plain": [
       "[[('\\ufeffThe', 'NN'),\n",
       "  ('Project', 'NNP'),\n",
       "  ('Gutenberg', 'NNP'),\n",
       "  ('eBook', 'NN'),\n",
       "  (',', ','),\n",
       "  ('Hard', 'NNP'),\n",
       "  ('Times', 'NNP'),\n",
       "  (',', ','),\n",
       "  ('by', 'IN'),\n",
       "  ('Charles', 'NNP'),\n",
       "  ('Dickens', 'NNP'),\n",
       "  ('This', 'DT'),\n",
       "  ('eBook', 'NN'),\n",
       "  ('is', 'VBZ'),\n",
       "  ('for', 'IN'),\n",
       "  ('the', 'DT'),\n",
       "  ('use', 'NN'),\n",
       "  ('of', 'IN'),\n",
       "  ('anyone', 'NN'),\n",
       "  ('anywhere', 'RB'),\n",
       "  ('at', 'IN'),\n",
       "  ('no', 'DT'),\n",
       "  ('cost', 'NN'),\n",
       "  ('and', 'CC'),\n",
       "  ('with', 'IN'),\n",
       "  ('almost', 'RB'),\n",
       "  ('no', 'DT'),\n",
       "  ('restrictions', 'NNS'),\n",
       "  ('whatsoever', 'RB'),\n",
       "  ('.', '.')]]"
      ]
     },
     "execution_count": 89,
     "metadata": {},
     "output_type": "execute_result"
    }
   ],
   "source": [
    "pos_tagged_tokens[:1]"
   ]
  },
  {
   "cell_type": "markdown",
   "metadata": {},
   "source": [
    "### n-grams"
   ]
  },
  {
   "cell_type": "code",
   "execution_count": 52,
   "metadata": {},
   "outputs": [
    {
     "name": "stdout",
     "output_type": "stream",
     "text": [
      "He had reached the neutral ground upon the outskirts of the town , which was neither town nor country , and yet was either spoiled , when his ears were invaded by the sound of music .\n"
     ]
    }
   ],
   "source": [
    "print(' ' .join(tokens[171]))"
   ]
  },
  {
   "cell_type": "code",
   "execution_count": 53,
   "metadata": {},
   "outputs": [
    {
     "name": "stdout",
     "output_type": "stream",
     "text": [
      "[('He', 'had'), ('had', 'reached'), ('reached', 'the'), ('the', 'neutral'), ('neutral', 'ground'), ('ground', 'upon'), ('upon', 'the'), ('the', 'outskirts'), ('outskirts', 'of'), ('of', 'the'), ('the', 'town'), ('town', 'which'), ('which', 'was'), ('was', 'neither'), ('neither', 'town'), ('town', 'nor'), ('nor', 'country'), ('country', 'and'), ('and', 'yet'), ('yet', 'was'), ('was', 'either'), ('either', 'spoiled'), ('spoiled', 'when'), ('when', 'his'), ('his', 'ears'), ('ears', 'were'), ('were', 'invaded'), ('invaded', 'by'), ('by', 'the'), ('the', 'sound'), ('sound', 'of'), ('of', 'music')]\n"
     ]
    }
   ],
   "source": [
    "bigram = nltk.bigrams(w for w in tokens[171] if w.isalpha())\n",
    "\n",
    "print(list(bigram))"
   ]
  },
  {
   "cell_type": "code",
   "execution_count": 54,
   "metadata": {},
   "outputs": [
    {
     "data": {
      "image/png": "[encoded data removed]",
      "text/plain": [
       "<matplotlib.figure.Figure at 0x1a5692ed6d8>"
      ]
     },
     "metadata": {},
     "output_type": "display_data"
    }
   ],
   "source": [
    "import networkx as nx\n",
    "G = nx.Graph()\n",
    "G.add_edges_from(bigram)\n",
    "nx.draw_networkx(G)"
   ]
  },
  {
   "cell_type": "code",
   "execution_count": 55,
   "metadata": {},
   "outputs": [
    {
     "name": "stdout",
     "output_type": "stream",
     "text": [
      "[('He', 'had', 'reached', 'the', 'neutral'), ('had', 'reached', 'the', 'neutral', 'ground'), ('reached', 'the', 'neutral', 'ground', 'upon'), ('the', 'neutral', 'ground', 'upon', 'the'), ('neutral', 'ground', 'upon', 'the', 'outskirts'), ('ground', 'upon', 'the', 'outskirts', 'of'), ('upon', 'the', 'outskirts', 'of', 'the'), ('the', 'outskirts', 'of', 'the', 'town'), ('outskirts', 'of', 'the', 'town', 'which'), ('of', 'the', 'town', 'which', 'was'), ('the', 'town', 'which', 'was', 'neither'), ('town', 'which', 'was', 'neither', 'town'), ('which', 'was', 'neither', 'town', 'nor'), ('was', 'neither', 'town', 'nor', 'country'), ('neither', 'town', 'nor', 'country', 'and'), ('town', 'nor', 'country', 'and', 'yet'), ('nor', 'country', 'and', 'yet', 'was'), ('country', 'and', 'yet', 'was', 'either'), ('and', 'yet', 'was', 'either', 'spoiled'), ('yet', 'was', 'either', 'spoiled', 'when'), ('was', 'either', 'spoiled', 'when', 'his'), ('either', 'spoiled', 'when', 'his', 'ears'), ('spoiled', 'when', 'his', 'ears', 'were'), ('when', 'his', 'ears', 'were', 'invaded'), ('his', 'ears', 'were', 'invaded', 'by'), ('ears', 'were', 'invaded', 'by', 'the'), ('were', 'invaded', 'by', 'the', 'sound'), ('invaded', 'by', 'the', 'sound', 'of'), ('by', 'the', 'sound', 'of', 'music')]\n"
     ]
    }
   ],
   "source": [
    "ngram = nltk.ngrams((w for w in tokens[171] if w.isalpha()), 5)\n",
    "print(list(ngram))"
   ]
  },
  {
   "cell_type": "markdown",
   "metadata": {},
   "source": [
    "Now consider the full text of \"Hard Times\", here represented by the list ```tokens```."
   ]
  },
  {
   "cell_type": "code",
   "execution_count": 56,
   "metadata": {},
   "outputs": [
    {
     "name": "stderr",
     "output_type": "stream",
     "text": [
      "C:\\Users\\A1825\\AppData\\Local\\Continuum\\anaconda3\\lib\\site-packages\\ipykernel_launcher.py:5: DeprecationWarning: generator 'ngrams' raised StopIteration\n",
      "  \"\"\"\n"
     ]
    },
    {
     "data": {
      "text/plain": [
       "[('Project', 'Gutenberg', 'eBook', 'Hard', 'Times'),\n",
       " ('Gutenberg', 'eBook', 'Hard', 'Times', 'by'),\n",
       " ('eBook', 'Hard', 'Times', 'by', 'Charles'),\n",
       " ('Hard', 'Times', 'by', 'Charles', 'Dickens'),\n",
       " ('Times', 'by', 'Charles', 'Dickens', 'This'),\n",
       " ('by', 'Charles', 'Dickens', 'This', 'eBook'),\n",
       " ('Charles', 'Dickens', 'This', 'eBook', 'is'),\n",
       " ('Dickens', 'This', 'eBook', 'is', 'for'),\n",
       " ('This', 'eBook', 'is', 'for', 'the'),\n",
       " ('eBook', 'is', 'for', 'the', 'use'),\n",
       " ('is', 'for', 'the', 'use', 'of'),\n",
       " ('for', 'the', 'use', 'of', 'anyone'),\n",
       " ('the', 'use', 'of', 'anyone', 'anywhere'),\n",
       " ('use', 'of', 'anyone', 'anywhere', 'at'),\n",
       " ('of', 'anyone', 'anywhere', 'at', 'no'),\n",
       " ('anyone', 'anywhere', 'at', 'no', 'cost'),\n",
       " ('anywhere', 'at', 'no', 'cost', 'and'),\n",
       " ('at', 'no', 'cost', 'and', 'with'),\n",
       " ('no', 'cost', 'and', 'with', 'almost'),\n",
       " ('cost', 'and', 'with', 'almost', 'no'),\n",
       " ('and', 'with', 'almost', 'no', 'restrictions'),\n",
       " ('with', 'almost', 'no', 'restrictions', 'whatsoever'),\n",
       " ('You', 'may', 'copy', 'it', 'give'),\n",
       " ('may', 'copy', 'it', 'give', 'it'),\n",
       " ('copy', 'it', 'give', 'it', 'away'),\n",
       " ('it', 'give', 'it', 'away', 'or'),\n",
       " ('give', 'it', 'away', 'or', 'it'),\n",
       " ('it', 'away', 'or', 'it', 'under'),\n",
       " ('away', 'or', 'it', 'under', 'the'),\n",
       " ('or', 'it', 'under', 'the', 'terms'),\n",
       " ('it', 'under', 'the', 'terms', 'of'),\n",
       " ('under', 'the', 'terms', 'of', 'the'),\n",
       " ('the', 'terms', 'of', 'the', 'Project'),\n",
       " ('terms', 'of', 'the', 'Project', 'Gutenberg'),\n",
       " ('of', 'the', 'Project', 'Gutenberg', 'License'),\n",
       " ('the', 'Project', 'Gutenberg', 'License', 'included'),\n",
       " ('Project', 'Gutenberg', 'License', 'included', 'with'),\n",
       " ('Gutenberg', 'License', 'included', 'with', 'this'),\n",
       " ('License', 'included', 'with', 'this', 'eBook'),\n",
       " ('included', 'with', 'this', 'eBook', 'or'),\n",
       " ('with', 'this', 'eBook', 'or', 'online'),\n",
       " ('this', 'eBook', 'or', 'online', 'at'),\n",
       " ('eBook', 'or', 'online', 'at', 'Title'),\n",
       " ('or', 'online', 'at', 'Title', 'Hard'),\n",
       " ('online', 'at', 'Title', 'Hard', 'Times'),\n",
       " ('at', 'Title', 'Hard', 'Times', 'Author'),\n",
       " ('Title', 'Hard', 'Times', 'Author', 'Charles'),\n",
       " ('Hard', 'Times', 'Author', 'Charles', 'Dickens'),\n",
       " ('Times', 'Author', 'Charles', 'Dickens', 'Release'),\n",
       " ('Author', 'Charles', 'Dickens', 'Release', 'Date'),\n",
       " ('Charles', 'Dickens', 'Release', 'Date', 'March'),\n",
       " ('Dickens', 'Release', 'Date', 'March', 'eBook'),\n",
       " ('Release', 'Date', 'March', 'eBook', 'This'),\n",
       " ('Date', 'March', 'eBook', 'This', 'file'),\n",
       " ('March', 'eBook', 'This', 'file', 'was'),\n",
       " ('eBook', 'This', 'file', 'was', 'first'),\n",
       " ('This', 'file', 'was', 'first', 'posted'),\n",
       " ('file', 'was', 'first', 'posted', 'on'),\n",
       " ('was', 'first', 'posted', 'on', 'January'),\n",
       " ('first', 'posted', 'on', 'January', 'Language'),\n",
       " ('posted', 'on', 'January', 'Language', 'English'),\n",
       " ('on', 'January', 'Language', 'English', 'Character'),\n",
       " ('January', 'Language', 'English', 'Character', 'set'),\n",
       " ('Language', 'English', 'Character', 'set', 'encoding'),\n",
       " ('English', 'Character', 'set', 'encoding', 'OF'),\n",
       " ('Character', 'set', 'encoding', 'OF', 'THE'),\n",
       " ('set', 'encoding', 'OF', 'THE', 'PROJECT'),\n",
       " ('encoding', 'OF', 'THE', 'PROJECT', 'GUTENBERG'),\n",
       " ('OF', 'THE', 'PROJECT', 'GUTENBERG', 'EBOOK'),\n",
       " ('THE', 'PROJECT', 'GUTENBERG', 'EBOOK', 'HARD'),\n",
       " ('PROJECT', 'GUTENBERG', 'EBOOK', 'HARD', 'Transcribed'),\n",
       " ('GUTENBERG', 'EBOOK', 'HARD', 'Transcribed', 'from'),\n",
       " ('EBOOK', 'HARD', 'Transcribed', 'from', 'the'),\n",
       " ('HARD', 'Transcribed', 'from', 'the', 'Chapman'),\n",
       " ('Transcribed', 'from', 'the', 'Chapman', 'and'),\n",
       " ('from', 'the', 'Chapman', 'and', 'Hall'),\n",
       " ('the', 'Chapman', 'and', 'Hall', 'edition'),\n",
       " ('Chapman', 'and', 'Hall', 'edition', 'by'),\n",
       " ('and', 'Hall', 'edition', 'by', 'David'),\n",
       " ('Hall', 'edition', 'by', 'David', 'Price'),\n",
       " ('edition', 'by', 'David', 'Price', 'email'),\n",
       " ('by', 'David', 'Price', 'email', 'HARD'),\n",
       " ('David', 'Price', 'email', 'HARD', 'TIMES'),\n",
       " ('Price', 'email', 'HARD', 'TIMES', 'AND'),\n",
       " ('email', 'HARD', 'TIMES', 'AND', 'REPRINTED'),\n",
       " ('HARD', 'TIMES', 'AND', 'REPRINTED', 'PIECES'),\n",
       " ('TIMES', 'AND', 'REPRINTED', 'PIECES', 'By'),\n",
       " ('AND', 'REPRINTED', 'PIECES', 'By', 'CHARLES'),\n",
       " ('REPRINTED', 'PIECES', 'By', 'CHARLES', 'DICKENS'),\n",
       " ('PIECES', 'By', 'CHARLES', 'DICKENS', 'illustrations'),\n",
       " ('By', 'CHARLES', 'DICKENS', 'illustrations', 'by'),\n",
       " ('CHARLES', 'DICKENS', 'illustrations', 'by', 'Marcus'),\n",
       " ('DICKENS', 'illustrations', 'by', 'Marcus', 'LONDON'),\n",
       " ('illustrations', 'by', 'Marcus', 'LONDON', 'CHAPMAN'),\n",
       " ('by', 'Marcus', 'LONDON', 'CHAPMAN', 'HALL'),\n",
       " ('Marcus', 'LONDON', 'CHAPMAN', 'HALL', 'LD'),\n",
       " ('NEW', 'YORK', 'CHARLES', 'SCRIBNER', 'S'),\n",
       " ('YORK', 'CHARLES', 'SCRIBNER', 'S', 'SONS'),\n",
       " ('CHARLES', 'SCRIBNER', 'S', 'SONS', 'CONTENTS'),\n",
       " ('SCRIBNER', 'S', 'SONS', 'CONTENTS', 'THE'),\n",
       " ('PAGE', 'CHAPTER', 'I', 'One', 'Thing'),\n",
       " ('CHAPTER', 'I', 'One', 'Thing', 'CHAPTER'),\n",
       " ('I', 'One', 'Thing', 'CHAPTER', 'II'),\n",
       " ('One', 'Thing', 'CHAPTER', 'II', 'the'),\n",
       " ('Thing', 'CHAPTER', 'II', 'the', 'CHAPTER'),\n",
       " ('CHAPTER', 'II', 'the', 'CHAPTER', 'III'),\n",
       " ('II', 'the', 'CHAPTER', 'III', 'CHAPTER'),\n",
       " ('the', 'CHAPTER', 'III', 'CHAPTER', 'IV'),\n",
       " ('CHAPTER', 'V', 'CHAPTER', 'VI', 's'),\n",
       " ('V', 'CHAPTER', 'VI', 's', 'CHAPTER'),\n",
       " ('CHAPTER', 'VI', 's', 'CHAPTER', 'VII'),\n",
       " ('CHAPTER', 'VIII', 'CHAPTER', 'IX', 's'),\n",
       " ('VIII', 'CHAPTER', 'IX', 's', 'CHAPTER'),\n",
       " ('CHAPTER', 'IX', 's', 'CHAPTER', 'X'),\n",
       " ('IX', 's', 'CHAPTER', 'X', 'CHAPTER'),\n",
       " ('s', 'CHAPTER', 'X', 'CHAPTER', 'XI'),\n",
       " ('CHAPTER', 'X', 'CHAPTER', 'XI', 'Way'),\n",
       " ('X', 'CHAPTER', 'XI', 'Way', 'CHAPTER'),\n",
       " ('CHAPTER', 'XI', 'Way', 'CHAPTER', 'XII'),\n",
       " ('XI', 'Way', 'CHAPTER', 'XII', 'Old'),\n",
       " ('Way', 'CHAPTER', 'XII', 'Old', 'CHAPTER'),\n",
       " ('CHAPTER', 'XII', 'Old', 'CHAPTER', 'XIII'),\n",
       " ('XII', 'Old', 'CHAPTER', 'XIII', 'CHAPTER'),\n",
       " ('Old', 'CHAPTER', 'XIII', 'CHAPTER', 'XIV'),\n",
       " ('CHAPTER', 'XIII', 'CHAPTER', 'XIV', 'Great'),\n",
       " ('XIII', 'CHAPTER', 'XIV', 'Great', 'CHAPTER'),\n",
       " ('CHAPTER', 'XIV', 'Great', 'CHAPTER', 'XV'),\n",
       " ('XIV', 'Great', 'CHAPTER', 'XV', 'and'),\n",
       " ('Great', 'CHAPTER', 'XV', 'and', 'CHAPTER'),\n",
       " ('CHAPTER', 'XV', 'and', 'CHAPTER', 'XVI'),\n",
       " ('XV', 'and', 'CHAPTER', 'XVI', 'and'),\n",
       " ('and', 'CHAPTER', 'XVI', 'and', 'THE'),\n",
       " ('CHAPTER', 'I', 'in', 'the', 'CHAPTER'),\n",
       " ('I', 'in', 'the', 'CHAPTER', 'II'),\n",
       " ('James', 'CHAPTER', 'III', 'CHAPTER', 'IV'),\n",
       " ('CHAPTER', 'III', 'CHAPTER', 'IV', 'and'),\n",
       " ('III', 'CHAPTER', 'IV', 'and', 'CHAPTER'),\n",
       " ('CHAPTER', 'IV', 'and', 'CHAPTER', 'V'),\n",
       " ('IV', 'and', 'CHAPTER', 'V', 'and'),\n",
       " ('and', 'CHAPTER', 'V', 'and', 'CHAPTER'),\n",
       " ('CHAPTER', 'V', 'and', 'CHAPTER', 'VI'),\n",
       " ('V', 'and', 'CHAPTER', 'VI', 'CHAPTER'),\n",
       " ('and', 'CHAPTER', 'VI', 'CHAPTER', 'VII'),\n",
       " ('CHAPTER', 'VI', 'CHAPTER', 'VII', 'CHAPTER'),\n",
       " ('VI', 'CHAPTER', 'VII', 'CHAPTER', 'VIII'),\n",
       " ('CHAPTER', 'VII', 'CHAPTER', 'VIII', 'CHAPTER'),\n",
       " ('VII', 'CHAPTER', 'VIII', 'CHAPTER', 'IX'),\n",
       " ('CHAPTER', 'VIII', 'CHAPTER', 'IX', 'the'),\n",
       " ('VIII', 'CHAPTER', 'IX', 'the', 'Last'),\n",
       " ('CHAPTER', 'IX', 'the', 'Last', 'of'),\n",
       " ('IX', 'the', 'Last', 'of', 'CHAPTER'),\n",
       " ('the', 'Last', 'of', 'CHAPTER', 'X'),\n",
       " ('Sparsit', 's', 'CHAPTER', 'XI', 'and'),\n",
       " ('s', 'CHAPTER', 'XI', 'and', 'CHAPTER'),\n",
       " ('CHAPTER', 'XI', 'and', 'CHAPTER', 'XII'),\n",
       " ('XI', 'and', 'CHAPTER', 'XII', 'THE'),\n",
       " ('CHAPTER', 'I', 'Thing', 'CHAPTER', 'II'),\n",
       " ('I', 'Thing', 'CHAPTER', 'II', 'CHAPTER'),\n",
       " ('Thing', 'CHAPTER', 'II', 'CHAPTER', 'III'),\n",
       " ('CHAPTER', 'II', 'CHAPTER', 'III', 'CHAPTER'),\n",
       " ('II', 'CHAPTER', 'III', 'CHAPTER', 'IV'),\n",
       " ('CHAPTER', 'III', 'CHAPTER', 'IV', 'CHAPTER'),\n",
       " ('III', 'CHAPTER', 'IV', 'CHAPTER', 'V'),\n",
       " ('CHAPTER', 'IV', 'CHAPTER', 'V', 'CHAPTER'),\n",
       " ('IV', 'CHAPTER', 'V', 'CHAPTER', 'VI'),\n",
       " ('CHAPTER', 'V', 'CHAPTER', 'VI', 'CHAPTER'),\n",
       " ('V', 'CHAPTER', 'VI', 'CHAPTER', 'VII'),\n",
       " ('CHAPTER', 'VI', 'CHAPTER', 'VII', 'CHAPTER'),\n",
       " ('VI', 'CHAPTER', 'VII', 'CHAPTER', 'VIII'),\n",
       " ('CHAPTER', 'VII', 'CHAPTER', 'VIII', 'CHAPTER'),\n",
       " ('VII', 'CHAPTER', 'VIII', 'CHAPTER', 'IX'),\n",
       " ('CHAPTER', 'VIII', 'CHAPTER', 'IX', 'LIST'),\n",
       " ('VIII', 'CHAPTER', 'IX', 'LIST', 'OF'),\n",
       " ('CHAPTER', 'IX', 'LIST', 'OF', 'ILLUSTRATIONS'),\n",
       " ('IX', 'LIST', 'OF', 'ILLUSTRATIONS', 'PAGE'),\n",
       " ('LIST', 'OF', 'ILLUSTRATIONS', 'PAGE', 'and'),\n",
       " ('OF', 'ILLUSTRATIONS', 'PAGE', 'and', 'Rachael'),\n",
       " ('ILLUSTRATIONS', 'PAGE', 'and', 'Rachael', 'in'),\n",
       " ('PAGE', 'and', 'Rachael', 'in', 'the'),\n",
       " ('Harthouse', 'Dining', 'at', 'the', 'Bounderbys'),\n",
       " ('Harthouse', 'and', 'Tom', 'Gradgrind', 'in'),\n",
       " ('and', 'Tom', 'Gradgrind', 'in', 'the'),\n",
       " ('Tom', 'Gradgrind', 'in', 'the', 'Blackpool'),\n",
       " ('Gradgrind', 'in', 'the', 'Blackpool', 'recovered'),\n",
       " ('in', 'the', 'Blackpool', 'recovered', 'from'),\n",
       " ('the', 'Blackpool', 'recovered', 'from', 'the'),\n",
       " ('Blackpool', 'recovered', 'from', 'the', 'Old'),\n",
       " ('recovered', 'from', 'the', 'Old', 'Hell'),\n",
       " ('from', 'the', 'Old', 'Hell', 'BOOK'),\n",
       " ('the', 'Old', 'Hell', 'BOOK', 'THE'),\n",
       " ('Old', 'Hell', 'BOOK', 'THE', 'FIRST'),\n",
       " ('Hell', 'BOOK', 'THE', 'FIRST', 'CHAPTER'),\n",
       " ('BOOK', 'THE', 'FIRST', 'CHAPTER', 'I'),\n",
       " ('THE', 'FIRST', 'CHAPTER', 'I', 'THE'),\n",
       " ('FIRST', 'CHAPTER', 'I', 'THE', 'ONE'),\n",
       " ('CHAPTER', 'I', 'THE', 'ONE', 'THING'),\n",
       " ('I', 'THE', 'ONE', 'THING', 'NEEDFUL'),\n",
       " ('THE', 'ONE', 'THING', 'NEEDFUL', 'NOW'),\n",
       " ('ONE', 'THING', 'NEEDFUL', 'NOW', 'what'),\n",
       " ('THING', 'NEEDFUL', 'NOW', 'what', 'I'),\n",
       " ('NEEDFUL', 'NOW', 'what', 'I', 'want'),\n",
       " ('NOW', 'what', 'I', 'want', 'is'),\n",
       " ('what', 'I', 'want', 'is', 'Facts'),\n",
       " ('Teach', 'these', 'boys', 'and', 'girls'),\n",
       " ('these', 'boys', 'and', 'girls', 'nothing'),\n",
       " ('boys', 'and', 'girls', 'nothing', 'but'),\n",
       " ('and', 'girls', 'nothing', 'but', 'Facts'),\n",
       " ('Facts', 'alone', 'are', 'wanted', 'in'),\n",
       " ('alone', 'are', 'wanted', 'in', 'life'),\n",
       " ('Plant', 'nothing', 'else', 'and', 'root'),\n",
       " ('nothing', 'else', 'and', 'root', 'out'),\n",
       " ('else', 'and', 'root', 'out', 'everything'),\n",
       " ('and', 'root', 'out', 'everything', 'else'),\n",
       " ('You', 'can', 'only', 'form', 'the'),\n",
       " ('can', 'only', 'form', 'the', 'minds'),\n",
       " ('only', 'form', 'the', 'minds', 'of'),\n",
       " ('form', 'the', 'minds', 'of', 'reasoning'),\n",
       " ('the', 'minds', 'of', 'reasoning', 'animals'),\n",
       " ('minds', 'of', 'reasoning', 'animals', 'upon'),\n",
       " ('of', 'reasoning', 'animals', 'upon', 'Facts'),\n",
       " ('reasoning', 'animals', 'upon', 'Facts', 'nothing'),\n",
       " ('animals', 'upon', 'Facts', 'nothing', 'else'),\n",
       " ('upon', 'Facts', 'nothing', 'else', 'will'),\n",
       " ('Facts', 'nothing', 'else', 'will', 'ever'),\n",
       " ('nothing', 'else', 'will', 'ever', 'be'),\n",
       " ('else', 'will', 'ever', 'be', 'of'),\n",
       " ('will', 'ever', 'be', 'of', 'any'),\n",
       " ('ever', 'be', 'of', 'any', 'service'),\n",
       " ('be', 'of', 'any', 'service', 'to'),\n",
       " ('of', 'any', 'service', 'to', 'them'),\n",
       " ('This', 'is', 'the', 'principle', 'on'),\n",
       " ('is', 'the', 'principle', 'on', 'which'),\n",
       " ('the', 'principle', 'on', 'which', 'I'),\n",
       " ('principle', 'on', 'which', 'I', 'bring'),\n",
       " ('on', 'which', 'I', 'bring', 'up'),\n",
       " ('which', 'I', 'bring', 'up', 'my'),\n",
       " ('I', 'bring', 'up', 'my', 'own'),\n",
       " ('bring', 'up', 'my', 'own', 'children'),\n",
       " ('up', 'my', 'own', 'children', 'and'),\n",
       " ('my', 'own', 'children', 'and', 'this'),\n",
       " ('own', 'children', 'and', 'this', 'is'),\n",
       " ('children', 'and', 'this', 'is', 'the'),\n",
       " ('and', 'this', 'is', 'the', 'principle'),\n",
       " ('this', 'is', 'the', 'principle', 'on'),\n",
       " ('is', 'the', 'principle', 'on', 'which'),\n",
       " ('the', 'principle', 'on', 'which', 'I'),\n",
       " ('principle', 'on', 'which', 'I', 'bring'),\n",
       " ('on', 'which', 'I', 'bring', 'up'),\n",
       " ('which', 'I', 'bring', 'up', 'these'),\n",
       " ('I', 'bring', 'up', 'these', 'children'),\n",
       " ('Stick', 'to', 'Facts', 'sir', 'The'),\n",
       " ('to', 'Facts', 'sir', 'The', 'scene'),\n",
       " ('Facts', 'sir', 'The', 'scene', 'was'),\n",
       " ('sir', 'The', 'scene', 'was', 'a'),\n",
       " ('The', 'scene', 'was', 'a', 'plain'),\n",
       " ('scene', 'was', 'a', 'plain', 'bare'),\n",
       " ('was', 'a', 'plain', 'bare', 'monotonous'),\n",
       " ('a', 'plain', 'bare', 'monotonous', 'vault'),\n",
       " ('plain', 'bare', 'monotonous', 'vault', 'of'),\n",
       " ('bare', 'monotonous', 'vault', 'of', 'a'),\n",
       " ('monotonous', 'vault', 'of', 'a', 'and'),\n",
       " ('vault', 'of', 'a', 'and', 'the'),\n",
       " ('of', 'a', 'and', 'the', 'speaker'),\n",
       " ('a', 'and', 'the', 'speaker', 's'),\n",
       " ('and', 'the', 'speaker', 's', 'square'),\n",
       " ('the', 'speaker', 's', 'square', 'forefinger'),\n",
       " ('speaker', 's', 'square', 'forefinger', 'emphasized'),\n",
       " ('s', 'square', 'forefinger', 'emphasized', 'his'),\n",
       " ('square', 'forefinger', 'emphasized', 'his', 'observations'),\n",
       " ('forefinger', 'emphasized', 'his', 'observations', 'by'),\n",
       " ('emphasized', 'his', 'observations', 'by', 'underscoring'),\n",
       " ('his', 'observations', 'by', 'underscoring', 'every'),\n",
       " ('observations', 'by', 'underscoring', 'every', 'sentence'),\n",
       " ('by', 'underscoring', 'every', 'sentence', 'with'),\n",
       " ('underscoring', 'every', 'sentence', 'with', 'a'),\n",
       " ('every', 'sentence', 'with', 'a', 'line'),\n",
       " ('sentence', 'with', 'a', 'line', 'on'),\n",
       " ('with', 'a', 'line', 'on', 'the'),\n",
       " ('a', 'line', 'on', 'the', 'schoolmaster'),\n",
       " ('line', 'on', 'the', 'schoolmaster', 's'),\n",
       " ('on', 'the', 'schoolmaster', 's', 'sleeve'),\n",
       " ('The', 'emphasis', 'was', 'helped', 'by'),\n",
       " ('emphasis', 'was', 'helped', 'by', 'the'),\n",
       " ('was', 'helped', 'by', 'the', 'speaker'),\n",
       " ('helped', 'by', 'the', 'speaker', 's'),\n",
       " ('by', 'the', 'speaker', 's', 'square'),\n",
       " ('the', 'speaker', 's', 'square', 'wall'),\n",
       " ('speaker', 's', 'square', 'wall', 'of'),\n",
       " ('s', 'square', 'wall', 'of', 'a'),\n",
       " ('square', 'wall', 'of', 'a', 'forehead'),\n",
       " ('wall', 'of', 'a', 'forehead', 'which'),\n",
       " ('of', 'a', 'forehead', 'which', 'had'),\n",
       " ('a', 'forehead', 'which', 'had', 'his'),\n",
       " ('forehead', 'which', 'had', 'his', 'eyebrows'),\n",
       " ('which', 'had', 'his', 'eyebrows', 'for'),\n",
       " ('had', 'his', 'eyebrows', 'for', 'its'),\n",
       " ('his', 'eyebrows', 'for', 'its', 'base'),\n",
       " ('eyebrows', 'for', 'its', 'base', 'while'),\n",
       " ('for', 'its', 'base', 'while', 'his'),\n",
       " ('its', 'base', 'while', 'his', 'eyes'),\n",
       " ('base', 'while', 'his', 'eyes', 'found'),\n",
       " ('while', 'his', 'eyes', 'found', 'commodious'),\n",
       " ('his', 'eyes', 'found', 'commodious', 'cellarage'),\n",
       " ('eyes', 'found', 'commodious', 'cellarage', 'in'),\n",
       " ('found', 'commodious', 'cellarage', 'in', 'two'),\n",
       " ('commodious', 'cellarage', 'in', 'two', 'dark'),\n",
       " ('cellarage', 'in', 'two', 'dark', 'caves'),\n",
       " ('in', 'two', 'dark', 'caves', 'overshadowed'),\n",
       " ('two', 'dark', 'caves', 'overshadowed', 'by'),\n",
       " ('dark', 'caves', 'overshadowed', 'by', 'the'),\n",
       " ('caves', 'overshadowed', 'by', 'the', 'wall'),\n",
       " ('The', 'emphasis', 'was', 'helped', 'by'),\n",
       " ('emphasis', 'was', 'helped', 'by', 'the'),\n",
       " ('was', 'helped', 'by', 'the', 'speaker'),\n",
       " ('helped', 'by', 'the', 'speaker', 's'),\n",
       " ('by', 'the', 'speaker', 's', 'mouth'),\n",
       " ('the', 'speaker', 's', 'mouth', 'which'),\n",
       " ('speaker', 's', 'mouth', 'which', 'was'),\n",
       " ('s', 'mouth', 'which', 'was', 'wide'),\n",
       " ('mouth', 'which', 'was', 'wide', 'thin'),\n",
       " ('which', 'was', 'wide', 'thin', 'and'),\n",
       " ('was', 'wide', 'thin', 'and', 'hard'),\n",
       " ('wide', 'thin', 'and', 'hard', 'set'),\n",
       " ('The', 'emphasis', 'was', 'helped', 'by'),\n",
       " ('emphasis', 'was', 'helped', 'by', 'the'),\n",
       " ('was', 'helped', 'by', 'the', 'speaker'),\n",
       " ('helped', 'by', 'the', 'speaker', 's'),\n",
       " ('by', 'the', 'speaker', 's', 'voice'),\n",
       " ('the', 'speaker', 's', 'voice', 'which'),\n",
       " ('speaker', 's', 'voice', 'which', 'was'),\n",
       " ('s', 'voice', 'which', 'was', 'inflexible'),\n",
       " ('voice', 'which', 'was', 'inflexible', 'dry'),\n",
       " ('which', 'was', 'inflexible', 'dry', 'and'),\n",
       " ('was', 'inflexible', 'dry', 'and', 'dictatorial'),\n",
       " ('The', 'emphasis', 'was', 'helped', 'by'),\n",
       " ('emphasis', 'was', 'helped', 'by', 'the'),\n",
       " ('was', 'helped', 'by', 'the', 'speaker'),\n",
       " ('helped', 'by', 'the', 'speaker', 's'),\n",
       " ('by', 'the', 'speaker', 's', 'hair'),\n",
       " ('the', 'speaker', 's', 'hair', 'which'),\n",
       " ('speaker', 's', 'hair', 'which', 'bristled'),\n",
       " ('s', 'hair', 'which', 'bristled', 'on'),\n",
       " ('hair', 'which', 'bristled', 'on', 'the'),\n",
       " ('which', 'bristled', 'on', 'the', 'skirts'),\n",
       " ('bristled', 'on', 'the', 'skirts', 'of'),\n",
       " ('on', 'the', 'skirts', 'of', 'his'),\n",
       " ('the', 'skirts', 'of', 'his', 'bald'),\n",
       " ('skirts', 'of', 'his', 'bald', 'head'),\n",
       " ('of', 'his', 'bald', 'head', 'a'),\n",
       " ('his', 'bald', 'head', 'a', 'plantation'),\n",
       " ('bald', 'head', 'a', 'plantation', 'of'),\n",
       " ('head', 'a', 'plantation', 'of', 'firs'),\n",
       " ('a', 'plantation', 'of', 'firs', 'to'),\n",
       " ('plantation', 'of', 'firs', 'to', 'keep'),\n",
       " ('of', 'firs', 'to', 'keep', 'the'),\n",
       " ('firs', 'to', 'keep', 'the', 'wind'),\n",
       " ('to', 'keep', 'the', 'wind', 'from'),\n",
       " ('keep', 'the', 'wind', 'from', 'its'),\n",
       " ('the', 'wind', 'from', 'its', 'shining'),\n",
       " ('wind', 'from', 'its', 'shining', 'surface'),\n",
       " ('from', 'its', 'shining', 'surface', 'all'),\n",
       " ('its', 'shining', 'surface', 'all', 'covered'),\n",
       " ('shining', 'surface', 'all', 'covered', 'with'),\n",
       " ('surface', 'all', 'covered', 'with', 'knobs'),\n",
       " ('all', 'covered', 'with', 'knobs', 'like'),\n",
       " ('covered', 'with', 'knobs', 'like', 'the'),\n",
       " ('with', 'knobs', 'like', 'the', 'crust'),\n",
       " ('knobs', 'like', 'the', 'crust', 'of'),\n",
       " ('like', 'the', 'crust', 'of', 'a'),\n",
       " ('the', 'crust', 'of', 'a', 'plum'),\n",
       " ('crust', 'of', 'a', 'plum', 'pie'),\n",
       " ('of', 'a', 'plum', 'pie', 'as'),\n",
       " ('a', 'plum', 'pie', 'as', 'if'),\n",
       " ('plum', 'pie', 'as', 'if', 'the'),\n",
       " ('pie', 'as', 'if', 'the', 'head'),\n",
       " ('as', 'if', 'the', 'head', 'had'),\n",
       " ('if', 'the', 'head', 'had', 'scarcely'),\n",
       " ('the', 'head', 'had', 'scarcely', 'for'),\n",
       " ('head', 'had', 'scarcely', 'for', 'the'),\n",
       " ('had', 'scarcely', 'for', 'the', 'hard'),\n",
       " ('scarcely', 'for', 'the', 'hard', 'facts'),\n",
       " ('for', 'the', 'hard', 'facts', 'stored'),\n",
       " ('the', 'hard', 'facts', 'stored', 'inside'),\n",
       " ('The', 'speaker', 's', 'obstinate', 'carriage'),\n",
       " ('speaker', 's', 'obstinate', 'carriage', 'square'),\n",
       " ('s', 'obstinate', 'carriage', 'square', 'coat'),\n",
       " ('obstinate', 'carriage', 'square', 'coat', 'square'),\n",
       " ('carriage', 'square', 'coat', 'square', 'legs'),\n",
       " ('square', 'coat', 'square', 'legs', 'square'),\n",
       " ('coat', 'square', 'legs', 'square', 'shoulders'),\n",
       " ('square', 'legs', 'square', 'shoulders', 'his'),\n",
       " ('legs', 'square', 'shoulders', 'his', 'very'),\n",
       " ('square', 'shoulders', 'his', 'very', 'neckcloth'),\n",
       " ('shoulders', 'his', 'very', 'neckcloth', 'trained'),\n",
       " ('his', 'very', 'neckcloth', 'trained', 'to'),\n",
       " ('very', 'neckcloth', 'trained', 'to', 'take'),\n",
       " ('neckcloth', 'trained', 'to', 'take', 'him'),\n",
       " ('trained', 'to', 'take', 'him', 'by'),\n",
       " ('to', 'take', 'him', 'by', 'the'),\n",
       " ('take', 'him', 'by', 'the', 'throat'),\n",
       " ('him', 'by', 'the', 'throat', 'with'),\n",
       " ('by', 'the', 'throat', 'with', 'an'),\n",
       " ('the', 'throat', 'with', 'an', 'unaccommodating'),\n",
       " ('throat', 'with', 'an', 'unaccommodating', 'grasp'),\n",
       " ('with', 'an', 'unaccommodating', 'grasp', 'like'),\n",
       " ('an', 'unaccommodating', 'grasp', 'like', 'a'),\n",
       " ('unaccommodating', 'grasp', 'like', 'a', 'stubborn'),\n",
       " ('grasp', 'like', 'a', 'stubborn', 'fact'),\n",
       " ('like', 'a', 'stubborn', 'fact', 'as'),\n",
       " ('a', 'stubborn', 'fact', 'as', 'it'),\n",
       " ('stubborn', 'fact', 'as', 'it', 'was'),\n",
       " ('fact', 'as', 'it', 'was', 'helped'),\n",
       " ('as', 'it', 'was', 'helped', 'the'),\n",
       " ('it', 'was', 'helped', 'the', 'emphasis'),\n",
       " ('In', 'this', 'life', 'we', 'want'),\n",
       " ('this', 'life', 'we', 'want', 'nothing'),\n",
       " ('life', 'we', 'want', 'nothing', 'but'),\n",
       " ('we', 'want', 'nothing', 'but', 'Facts'),\n",
       " ('want', 'nothing', 'but', 'Facts', 'sir'),\n",
       " ('nothing', 'but', 'Facts', 'sir', 'nothing'),\n",
       " ('but', 'Facts', 'sir', 'nothing', 'but'),\n",
       " ('Facts', 'sir', 'nothing', 'but', 'Facts'),\n",
       " ('sir', 'nothing', 'but', 'Facts', 'The'),\n",
       " ('nothing', 'but', 'Facts', 'The', 'speaker'),\n",
       " ('but', 'Facts', 'The', 'speaker', 'and'),\n",
       " ('Facts', 'The', 'speaker', 'and', 'the'),\n",
       " ('The', 'speaker', 'and', 'the', 'schoolmaster'),\n",
       " ('speaker', 'and', 'the', 'schoolmaster', 'and'),\n",
       " ('and', 'the', 'schoolmaster', 'and', 'the'),\n",
       " ('the', 'schoolmaster', 'and', 'the', 'third'),\n",
       " ('schoolmaster', 'and', 'the', 'third', 'grown'),\n",
       " ('and', 'the', 'third', 'grown', 'person'),\n",
       " ('the', 'third', 'grown', 'person', 'present'),\n",
       " ('third', 'grown', 'person', 'present', 'all'),\n",
       " ('grown', 'person', 'present', 'all', 'backed'),\n",
       " ('person', 'present', 'all', 'backed', 'a'),\n",
       " ('present', 'all', 'backed', 'a', 'little'),\n",
       " ('all', 'backed', 'a', 'little', 'and'),\n",
       " ('backed', 'a', 'little', 'and', 'swept'),\n",
       " ('a', 'little', 'and', 'swept', 'with'),\n",
       " ('little', 'and', 'swept', 'with', 'their'),\n",
       " ('and', 'swept', 'with', 'their', 'eyes'),\n",
       " ('swept', 'with', 'their', 'eyes', 'the'),\n",
       " ('with', 'their', 'eyes', 'the', 'inclined'),\n",
       " ('their', 'eyes', 'the', 'inclined', 'plane'),\n",
       " ('eyes', 'the', 'inclined', 'plane', 'of'),\n",
       " ('the', 'inclined', 'plane', 'of', 'little'),\n",
       " ('inclined', 'plane', 'of', 'little', 'vessels'),\n",
       " ('plane', 'of', 'little', 'vessels', 'then'),\n",
       " ('of', 'little', 'vessels', 'then', 'and'),\n",
       " ('little', 'vessels', 'then', 'and', 'there'),\n",
       " ('vessels', 'then', 'and', 'there', 'arranged'),\n",
       " ('then', 'and', 'there', 'arranged', 'in'),\n",
       " ('and', 'there', 'arranged', 'in', 'order'),\n",
       " ('there', 'arranged', 'in', 'order', 'ready'),\n",
       " ('arranged', 'in', 'order', 'ready', 'to'),\n",
       " ('in', 'order', 'ready', 'to', 'have'),\n",
       " ('order', 'ready', 'to', 'have', 'imperial'),\n",
       " ('ready', 'to', 'have', 'imperial', 'gallons'),\n",
       " ('to', 'have', 'imperial', 'gallons', 'of'),\n",
       " ('have', 'imperial', 'gallons', 'of', 'facts'),\n",
       " ('imperial', 'gallons', 'of', 'facts', 'poured'),\n",
       " ('gallons', 'of', 'facts', 'poured', 'into'),\n",
       " ('of', 'facts', 'poured', 'into', 'them'),\n",
       " ('facts', 'poured', 'into', 'them', 'until'),\n",
       " ('poured', 'into', 'them', 'until', 'they'),\n",
       " ('into', 'them', 'until', 'they', 'were'),\n",
       " ('them', 'until', 'they', 'were', 'full'),\n",
       " ('until', 'they', 'were', 'full', 'to'),\n",
       " ('they', 'were', 'full', 'to', 'the'),\n",
       " ('were', 'full', 'to', 'the', 'brim'),\n",
       " ('CHAPTER', 'II', 'MURDERING', 'THE', 'INNOCENTS'),\n",
       " ('II', 'MURDERING', 'THE', 'INNOCENTS', 'THOMAS'),\n",
       " ('MURDERING', 'THE', 'INNOCENTS', 'THOMAS', 'GRADGRIND'),\n",
       " ('THE', 'INNOCENTS', 'THOMAS', 'GRADGRIND', 'sir'),\n",
       " ('A', 'man', 'of', 'facts', 'and'),\n",
       " ('man', 'of', 'facts', 'and', 'calculations'),\n",
       " ('A', 'man', 'who', 'proceeds', 'upon'),\n",
       " ('man', 'who', 'proceeds', 'upon', 'the'),\n",
       " ('who', 'proceeds', 'upon', 'the', 'principle'),\n",
       " ('proceeds', 'upon', 'the', 'principle', 'that'),\n",
       " ('upon', 'the', 'principle', 'that', 'two'),\n",
       " ('the', 'principle', 'that', 'two', 'and'),\n",
       " ('principle', 'that', 'two', 'and', 'two'),\n",
       " ('that', 'two', 'and', 'two', 'are'),\n",
       " ('two', 'and', 'two', 'are', 'four'),\n",
       " ('and', 'two', 'are', 'four', 'and'),\n",
       " ('two', 'are', 'four', 'and', 'nothing'),\n",
       " ('are', 'four', 'and', 'nothing', 'over'),\n",
       " ('four', 'and', 'nothing', 'over', 'and'),\n",
       " ('and', 'nothing', 'over', 'and', 'who'),\n",
       " ('nothing', 'over', 'and', 'who', 'is'),\n",
       " ('over', 'and', 'who', 'is', 'not'),\n",
       " ('and', 'who', 'is', 'not', 'to'),\n",
       " ('who', 'is', 'not', 'to', 'be'),\n",
       " ('is', 'not', 'to', 'be', 'talked'),\n",
       " ('not', 'to', 'be', 'talked', 'into'),\n",
       " ('to', 'be', 'talked', 'into', 'allowing'),\n",
       " ('be', 'talked', 'into', 'allowing', 'for'),\n",
       " ('talked', 'into', 'allowing', 'for', 'anything'),\n",
       " ('into', 'allowing', 'for', 'anything', 'over'),\n",
       " ('With', 'a', 'rule', 'and', 'a'),\n",
       " ('a', 'rule', 'and', 'a', 'pair'),\n",
       " ('rule', 'and', 'a', 'pair', 'of'),\n",
       " ('and', 'a', 'pair', 'of', 'scales'),\n",
       " ('a', 'pair', 'of', 'scales', 'and'),\n",
       " ('pair', 'of', 'scales', 'and', 'the'),\n",
       " ('of', 'scales', 'and', 'the', 'multiplication'),\n",
       " ('scales', 'and', 'the', 'multiplication', 'table'),\n",
       " ('and', 'the', 'multiplication', 'table', 'always'),\n",
       " ('the', 'multiplication', 'table', 'always', 'in'),\n",
       " ('multiplication', 'table', 'always', 'in', 'his'),\n",
       " ('table', 'always', 'in', 'his', 'pocket'),\n",
       " ('always', 'in', 'his', 'pocket', 'sir'),\n",
       " ('in', 'his', 'pocket', 'sir', 'ready'),\n",
       " ('his', 'pocket', 'sir', 'ready', 'to'),\n",
       " ('pocket', 'sir', 'ready', 'to', 'weigh'),\n",
       " ('sir', 'ready', 'to', 'weigh', 'and'),\n",
       " ('ready', 'to', 'weigh', 'and', 'measure'),\n",
       " ('to', 'weigh', 'and', 'measure', 'any'),\n",
       " ('weigh', 'and', 'measure', 'any', 'parcel'),\n",
       " ('and', 'measure', 'any', 'parcel', 'of'),\n",
       " ('measure', 'any', 'parcel', 'of', 'human'),\n",
       " ('any', 'parcel', 'of', 'human', 'nature'),\n",
       " ('parcel', 'of', 'human', 'nature', 'and'),\n",
       " ('of', 'human', 'nature', 'and', 'tell'),\n",
       " ('human', 'nature', 'and', 'tell', 'you'),\n",
       " ('nature', 'and', 'tell', 'you', 'exactly'),\n",
       " ('and', 'tell', 'you', 'exactly', 'what'),\n",
       " ('tell', 'you', 'exactly', 'what', 'it'),\n",
       " ('you', 'exactly', 'what', 'it', 'comes'),\n",
       " ('exactly', 'what', 'it', 'comes', 'to'),\n",
       " ('It', 'is', 'a', 'mere', 'question'),\n",
       " ('is', 'a', 'mere', 'question', 'of'),\n",
       " ('a', 'mere', 'question', 'of', 'figures'),\n",
       " ('mere', 'question', 'of', 'figures', 'a'),\n",
       " ('question', 'of', 'figures', 'a', 'case'),\n",
       " ('of', 'figures', 'a', 'case', 'of'),\n",
       " ('figures', 'a', 'case', 'of', 'simple'),\n",
       " ('a', 'case', 'of', 'simple', 'arithmetic'),\n",
       " ('You', 'might', 'hope', 'to', 'get'),\n",
       " ('might', 'hope', 'to', 'get', 'some'),\n",
       " ('hope', 'to', 'get', 'some', 'other'),\n",
       " ('to', 'get', 'some', 'other', 'nonsensical'),\n",
       " ('get', 'some', 'other', 'nonsensical', 'belief'),\n",
       " ('some', 'other', 'nonsensical', 'belief', 'into'),\n",
       " ('other', 'nonsensical', 'belief', 'into', 'the'),\n",
       " ('nonsensical', 'belief', 'into', 'the', 'head'),\n",
       " ('belief', 'into', 'the', 'head', 'of'),\n",
       " ('into', 'the', 'head', 'of', 'George'),\n",
       " ('the', 'head', 'of', 'George', 'Gradgrind'),\n",
       " ('head', 'of', 'George', 'Gradgrind', 'or'),\n",
       " ('of', 'George', 'Gradgrind', 'or', 'Augustus'),\n",
       " ('George', 'Gradgrind', 'or', 'Augustus', 'Gradgrind'),\n",
       " ('Gradgrind', 'or', 'Augustus', 'Gradgrind', 'or'),\n",
       " ('or', 'Augustus', 'Gradgrind', 'or', 'John'),\n",
       " ('Augustus', 'Gradgrind', 'or', 'John', 'Gradgrind'),\n",
       " ('Gradgrind', 'or', 'John', 'Gradgrind', 'or'),\n",
       " ('or', 'John', 'Gradgrind', 'or', 'Joseph'),\n",
       " ('John', 'Gradgrind', 'or', 'Joseph', 'Gradgrind'),\n",
       " ('Gradgrind', 'or', 'Joseph', 'Gradgrind', 'all'),\n",
       " ('or', 'Joseph', 'Gradgrind', 'all', 'supposititious'),\n",
       " ('Joseph', 'Gradgrind', 'all', 'supposititious', 'persons'),\n",
       " ('Gradgrind', 'all', 'supposititious', 'persons', 'but'),\n",
       " ('all', 'supposititious', 'persons', 'but', 'into'),\n",
       " ('supposititious', 'persons', 'but', 'into', 'the'),\n",
       " ('persons', 'but', 'into', 'the', 'head'),\n",
       " ('but', 'into', 'the', 'head', 'of'),\n",
       " ('into', 'the', 'head', 'of', 'Thomas'),\n",
       " ('the', 'head', 'of', 'Thomas', 'sir'),\n",
       " ('In', 'such', 'terms', 'Gradgrind', 'always'),\n",
       " ('such', 'terms', 'Gradgrind', 'always', 'mentally'),\n",
       " ('terms', 'Gradgrind', 'always', 'mentally', 'introduced'),\n",
       " ('Gradgrind', 'always', 'mentally', 'introduced', 'himself'),\n",
       " ('always', 'mentally', 'introduced', 'himself', 'whether'),\n",
       " ('mentally', 'introduced', 'himself', 'whether', 'to'),\n",
       " ('introduced', 'himself', 'whether', 'to', 'his'),\n",
       " ('himself', 'whether', 'to', 'his', 'private'),\n",
       " ('whether', 'to', 'his', 'private', 'circle'),\n",
       " ('to', 'his', 'private', 'circle', 'of'),\n",
       " ('his', 'private', 'circle', 'of', 'acquaintance'),\n",
       " ('private', 'circle', 'of', 'acquaintance', 'or'),\n",
       " ('circle', 'of', 'acquaintance', 'or', 'to'),\n",
       " ('of', 'acquaintance', 'or', 'to', 'the'),\n",
       " ('acquaintance', 'or', 'to', 'the', 'public'),\n",
       " ('or', 'to', 'the', 'public', 'in'),\n",
       " ('to', 'the', 'public', 'in', 'general'),\n",
       " ('In', 'such', 'terms', 'no', 'doubt'),\n",
       " ('such', 'terms', 'no', 'doubt', 'substituting'),\n",
       " ('terms', 'no', 'doubt', 'substituting', 'the'),\n",
       " ('no', 'doubt', 'substituting', 'the', 'words'),\n",
       " ('doubt', 'substituting', 'the', 'words', 'boys'),\n",
       " ('substituting', 'the', 'words', 'boys', 'and'),\n",
       " ('the', 'words', 'boys', 'and', 'girls'),\n",
       " ('words', 'boys', 'and', 'girls', 'for'),\n",
       " ('boys', 'and', 'girls', 'for', 'sir'),\n",
       " ('and', 'girls', 'for', 'sir', 'Thomas'),\n",
       " ('girls', 'for', 'sir', 'Thomas', 'Gradgrind'),\n",
       " ('for', 'sir', 'Thomas', 'Gradgrind', 'now'),\n",
       " ('sir', 'Thomas', 'Gradgrind', 'now', 'presented'),\n",
       " ('Thomas', 'Gradgrind', 'now', 'presented', 'Thomas'),\n",
       " ('Gradgrind', 'now', 'presented', 'Thomas', 'Gradgrind'),\n",
       " ('now', 'presented', 'Thomas', 'Gradgrind', 'to'),\n",
       " ('presented', 'Thomas', 'Gradgrind', 'to', 'the'),\n",
       " ('Thomas', 'Gradgrind', 'to', 'the', 'little'),\n",
       " ('Gradgrind', 'to', 'the', 'little', 'pitchers'),\n",
       " ('to', 'the', 'little', 'pitchers', 'before'),\n",
       " ('the', 'little', 'pitchers', 'before', 'him'),\n",
       " ('little', 'pitchers', 'before', 'him', 'who'),\n",
       " ('pitchers', 'before', 'him', 'who', 'were'),\n",
       " ('before', 'him', 'who', 'were', 'to'),\n",
       " ('him', 'who', 'were', 'to', 'be'),\n",
       " ('who', 'were', 'to', 'be', 'filled'),\n",
       " ('were', 'to', 'be', 'filled', 'so'),\n",
       " ('to', 'be', 'filled', 'so', 'full'),\n",
       " ('be', 'filled', 'so', 'full', 'of'),\n",
       " ('filled', 'so', 'full', 'of', 'facts'),\n",
       " ('Indeed', 'as', 'he', 'eagerly', 'sparkled'),\n",
       " ('as', 'he', 'eagerly', 'sparkled', 'at'),\n",
       " ('he', 'eagerly', 'sparkled', 'at', 'them'),\n",
       " ('eagerly', 'sparkled', 'at', 'them', 'from'),\n",
       " ('sparkled', 'at', 'them', 'from', 'the'),\n",
       " ('at', 'them', 'from', 'the', 'cellarage'),\n",
       " ('them', 'from', 'the', 'cellarage', 'before'),\n",
       " ('from', 'the', 'cellarage', 'before', 'mentioned'),\n",
       " ('the', 'cellarage', 'before', 'mentioned', 'he'),\n",
       " ('cellarage', 'before', 'mentioned', 'he', 'seemed'),\n",
       " ('before', 'mentioned', 'he', 'seemed', 'a'),\n",
       " ('mentioned', 'he', 'seemed', 'a', 'kind'),\n",
       " ('he', 'seemed', 'a', 'kind', 'of'),\n",
       " ('seemed', 'a', 'kind', 'of', 'cannon'),\n",
       " ('a', 'kind', 'of', 'cannon', 'loaded'),\n",
       " ('kind', 'of', 'cannon', 'loaded', 'to'),\n",
       " ('of', 'cannon', 'loaded', 'to', 'the'),\n",
       " ('cannon', 'loaded', 'to', 'the', 'muzzle'),\n",
       " ('loaded', 'to', 'the', 'muzzle', 'with'),\n",
       " ('to', 'the', 'muzzle', 'with', 'facts'),\n",
       " ('the', 'muzzle', 'with', 'facts', 'and'),\n",
       " ('muzzle', 'with', 'facts', 'and', 'prepared'),\n",
       " ('with', 'facts', 'and', 'prepared', 'to'),\n",
       " ('facts', 'and', 'prepared', 'to', 'blow'),\n",
       " ('and', 'prepared', 'to', 'blow', 'them'),\n",
       " ('prepared', 'to', 'blow', 'them', 'clean'),\n",
       " ('to', 'blow', 'them', 'clean', 'out'),\n",
       " ('blow', 'them', 'clean', 'out', 'of'),\n",
       " ('them', 'clean', 'out', 'of', 'the'),\n",
       " ('clean', 'out', 'of', 'the', 'regions'),\n",
       " ('out', 'of', 'the', 'regions', 'of'),\n",
       " ('of', 'the', 'regions', 'of', 'childhood'),\n",
       " ('the', 'regions', 'of', 'childhood', 'at'),\n",
       " ('regions', 'of', 'childhood', 'at', 'one'),\n",
       " ('of', 'childhood', 'at', 'one', 'discharge'),\n",
       " ('He', 'seemed', 'a', 'galvanizing', 'apparatus'),\n",
       " ('seemed', 'a', 'galvanizing', 'apparatus', 'too'),\n",
       " ('a', 'galvanizing', 'apparatus', 'too', 'charged'),\n",
       " ('galvanizing', 'apparatus', 'too', 'charged', 'with'),\n",
       " ('apparatus', 'too', 'charged', 'with', 'a'),\n",
       " ('too', 'charged', 'with', 'a', 'grim'),\n",
       " ('charged', 'with', 'a', 'grim', 'mechanical'),\n",
       " ('with', 'a', 'grim', 'mechanical', 'substitute'),\n",
       " ('a', 'grim', 'mechanical', 'substitute', 'for'),\n",
       " ('grim', 'mechanical', 'substitute', 'for', 'the'),\n",
       " ('mechanical', 'substitute', 'for', 'the', 'tender'),\n",
       " ('substitute', 'for', 'the', 'tender', 'young'),\n",
       " ('for', 'the', 'tender', 'young', 'imaginations'),\n",
       " ('the', 'tender', 'young', 'imaginations', 'that'),\n",
       " ('tender', 'young', 'imaginations', 'that', 'were'),\n",
       " ('young', 'imaginations', 'that', 'were', 'to'),\n",
       " ('imaginations', 'that', 'were', 'to', 'be'),\n",
       " ('that', 'were', 'to', 'be', 'stormed'),\n",
       " ('were', 'to', 'be', 'stormed', 'away'),\n",
       " ('Girl', 'number', 'twenty', 'said', 'Gradgrind'),\n",
       " ('number', 'twenty', 'said', 'Gradgrind', 'squarely'),\n",
       " ('twenty', 'said', 'Gradgrind', 'squarely', 'pointing'),\n",
       " ('said', 'Gradgrind', 'squarely', 'pointing', 'with'),\n",
       " ('Gradgrind', 'squarely', 'pointing', 'with', 'his'),\n",
       " ('squarely', 'pointing', 'with', 'his', 'square'),\n",
       " ('pointing', 'with', 'his', 'square', 'forefinger'),\n",
       " ('with', 'his', 'square', 'forefinger', 'I'),\n",
       " ('his', 'square', 'forefinger', 'I', 'don'),\n",
       " ('square', 'forefinger', 'I', 'don', 't'),\n",
       " ('forefinger', 'I', 'don', 't', 'know'),\n",
       " ('I', 'don', 't', 'know', 'that'),\n",
       " ('don', 't', 'know', 'that', 'girl'),\n",
       " ('Who', 'is', 'that', 'girl', 'Sissy'),\n",
       " ('is', 'that', 'girl', 'Sissy', 'Jupe'),\n",
       " ('that', 'girl', 'Sissy', 'Jupe', 'sir'),\n",
       " ('girl', 'Sissy', 'Jupe', 'sir', 'explained'),\n",
       " ('Sissy', 'Jupe', 'sir', 'explained', 'number'),\n",
       " ('Jupe', 'sir', 'explained', 'number', 'twenty'),\n",
       " ('sir', 'explained', 'number', 'twenty', 'blushing'),\n",
       " ('explained', 'number', 'twenty', 'blushing', 'standing'),\n",
       " ('number', 'twenty', 'blushing', 'standing', 'up'),\n",
       " ('twenty', 'blushing', 'standing', 'up', 'and'),\n",
       " ('blushing', 'standing', 'up', 'and', 'curtseying'),\n",
       " ('Sissy', 'is', 'not', 'a', 'name'),\n",
       " ('is', 'not', 'a', 'name', 'said'),\n",
       " ('not', 'a', 'name', 'said', 'Gradgrind'),\n",
       " ('Don', 't', 'call', 'yourself', 'Sissy'),\n",
       " ('Call', 'yourself', 'It', 's', 'father'),\n",
       " ('yourself', 'It', 's', 'father', 'as'),\n",
       " ('It', 's', 'father', 'as', 'calls'),\n",
       " ('s', 'father', 'as', 'calls', 'me'),\n",
       " ('father', 'as', 'calls', 'me', 'Sissy'),\n",
       " ('as', 'calls', 'me', 'Sissy', 'sir'),\n",
       " ('calls', 'me', 'Sissy', 'sir', 'returned'),\n",
       " ('me', 'Sissy', 'sir', 'returned', 'the'),\n",
       " ('Sissy', 'sir', 'returned', 'the', 'young'),\n",
       " ('sir', 'returned', 'the', 'young', 'girl'),\n",
       " ('returned', 'the', 'young', 'girl', 'in'),\n",
       " ('the', 'young', 'girl', 'in', 'a'),\n",
       " ('young', 'girl', 'in', 'a', 'trembling'),\n",
       " ('girl', 'in', 'a', 'trembling', 'voice'),\n",
       " ('in', 'a', 'trembling', 'voice', 'and'),\n",
       " ('a', 'trembling', 'voice', 'and', 'with'),\n",
       " ('trembling', 'voice', 'and', 'with', 'another'),\n",
       " ('voice', 'and', 'with', 'another', 'curtsey'),\n",
       " ('Then', 'he', 'has', 'no', 'business'),\n",
       " ('he', 'has', 'no', 'business', 'to'),\n",
       " ('has', 'no', 'business', 'to', 'do'),\n",
       " ('no', 'business', 'to', 'do', 'it'),\n",
       " ('business', 'to', 'do', 'it', 'said'),\n",
       " ('to', 'do', 'it', 'said', 'Gradgrind'),\n",
       " ('Tell', 'him', 'he', 'mustn', 't'),\n",
       " ('What', 'is', 'your', 'father', 'He'),\n",
       " ('is', 'your', 'father', 'He', 'belongs'),\n",
       " ('your', 'father', 'He', 'belongs', 'to'),\n",
       " ('father', 'He', 'belongs', 'to', 'the'),\n",
       " ('He', 'belongs', 'to', 'the', 'if'),\n",
       " ('belongs', 'to', 'the', 'if', 'you'),\n",
       " ('to', 'the', 'if', 'you', 'please'),\n",
       " ('the', 'if', 'you', 'please', 'Gradgrind'),\n",
       " ('if', 'you', 'please', 'Gradgrind', 'frowned'),\n",
       " ('you', 'please', 'Gradgrind', 'frowned', 'and'),\n",
       " ('please', 'Gradgrind', 'frowned', 'and', 'waved'),\n",
       " ('Gradgrind', 'frowned', 'and', 'waved', 'off'),\n",
       " ('frowned', 'and', 'waved', 'off', 'the'),\n",
       " ('and', 'waved', 'off', 'the', 'objectionable'),\n",
       " ('waved', 'off', 'the', 'objectionable', 'calling'),\n",
       " ('off', 'the', 'objectionable', 'calling', 'with'),\n",
       " ('the', 'objectionable', 'calling', 'with', 'his'),\n",
       " ('objectionable', 'calling', 'with', 'his', 'hand'),\n",
       " ('We', 'don', 't', 'want', 'to'),\n",
       " ('don', 't', 'want', 'to', 'know'),\n",
       " ('t', 'want', 'to', 'know', 'anything'),\n",
       " ('want', 'to', 'know', 'anything', 'about'),\n",
       " ('to', 'know', 'anything', 'about', 'that'),\n",
       " ('know', 'anything', 'about', 'that', 'here'),\n",
       " ('You', 'mustn', 't', 'tell', 'us'),\n",
       " ('mustn', 't', 'tell', 'us', 'about'),\n",
       " ('t', 'tell', 'us', 'about', 'that'),\n",
       " ('tell', 'us', 'about', 'that', 'here'),\n",
       " ('Your', 'father', 'breaks', 'horses', 'don'),\n",
       " ('father', 'breaks', 'horses', 'don', 't'),\n",
       " ('breaks', 'horses', 'don', 't', 'he'),\n",
       " ('horses', 'don', 't', 'he', 'If'),\n",
       " ('don', 't', 'he', 'If', 'you'),\n",
       " ('t', 'he', 'If', 'you', 'please'),\n",
       " ('he', 'If', 'you', 'please', 'sir'),\n",
       " ('If', 'you', 'please', 'sir', 'when'),\n",
       " ('you', 'please', 'sir', 'when', 'they'),\n",
       " ('please', 'sir', 'when', 'they', 'can'),\n",
       " ('sir', 'when', 'they', 'can', 'get'),\n",
       " ('when', 'they', 'can', 'get', 'any'),\n",
       " ('they', 'can', 'get', 'any', 'to'),\n",
       " ('can', 'get', 'any', 'to', 'break'),\n",
       " ('get', 'any', 'to', 'break', 'they'),\n",
       " ('any', 'to', 'break', 'they', 'do'),\n",
       " ('to', 'break', 'they', 'do', 'break'),\n",
       " ('break', 'they', 'do', 'break', 'horses'),\n",
       " ('they', 'do', 'break', 'horses', 'in'),\n",
       " ('do', 'break', 'horses', 'in', 'the'),\n",
       " ('break', 'horses', 'in', 'the', 'ring'),\n",
       " ('horses', 'in', 'the', 'ring', 'You'),\n",
       " ('in', 'the', 'ring', 'You', 'mustn'),\n",
       " ('the', 'ring', 'You', 'mustn', 't'),\n",
       " ('ring', 'You', 'mustn', 't', 'tell'),\n",
       " ('You', 'mustn', 't', 'tell', 'us'),\n",
       " ('mustn', 't', 'tell', 'us', 'about'),\n",
       " ('t', 'tell', 'us', 'about', 'the'),\n",
       " ('tell', 'us', 'about', 'the', 'ring'),\n",
       " ('us', 'about', 'the', 'ring', 'here'),\n",
       " ('Describe', 'your', 'father', 'as', 'a'),\n",
       " ('your', 'father', 'as', 'a', 'horsebreaker'),\n",
       " ('He', 'doctors', 'sick', 'horses', 'I'),\n",
       " ('doctors', 'sick', 'horses', 'I', 'dare'),\n",
       " ('sick', 'horses', 'I', 'dare', 'say'),\n",
       " ('horses', 'I', 'dare', 'say', 'Oh'),\n",
       " ('I', 'dare', 'say', 'Oh', 'yes'),\n",
       " ('dare', 'say', 'Oh', 'yes', 'Very'),\n",
       " ('say', 'Oh', 'yes', 'Very', 'well'),\n",
       " ('Oh', 'yes', 'Very', 'well', 'then'),\n",
       " ('He', 'is', 'a', 'veterinary', 'surgeon'),\n",
       " ('is', 'a', 'veterinary', 'surgeon', 'a'),\n",
       " ('a', 'veterinary', 'surgeon', 'a', 'farrier'),\n",
       " ('veterinary', 'surgeon', 'a', 'farrier', 'and'),\n",
       " ('surgeon', 'a', 'farrier', 'and', 'horsebreaker'),\n",
       " ('Give', 'me', 'your', 'definition', 'of'),\n",
       " ('me', 'your', 'definition', 'of', 'a'),\n",
       " ('your', 'definition', 'of', 'a', 'Sissy'),\n",
       " ('definition', 'of', 'a', 'Sissy', 'Jupe'),\n",
       " ('of', 'a', 'Sissy', 'Jupe', 'thrown'),\n",
       " ('a', 'Sissy', 'Jupe', 'thrown', 'into'),\n",
       " ('Sissy', 'Jupe', 'thrown', 'into', 'the'),\n",
       " ('Jupe', 'thrown', 'into', 'the', 'greatest'),\n",
       " ('thrown', 'into', 'the', 'greatest', 'alarm'),\n",
       " ('into', 'the', 'greatest', 'alarm', 'by'),\n",
       " ('the', 'greatest', 'alarm', 'by', 'this'),\n",
       " ('greatest', 'alarm', 'by', 'this', 'demand'),\n",
       " ('Girl', 'number', 'twenty', 'unable', 'to'),\n",
       " ('number', 'twenty', 'unable', 'to', 'define'),\n",
       " ('twenty', 'unable', 'to', 'define', 'a'),\n",
       " ('unable', 'to', 'define', 'a', 'horse'),\n",
       " ('to', 'define', 'a', 'horse', 'said'),\n",
       " ('define', 'a', 'horse', 'said', 'Gradgrind'),\n",
       " ('a', 'horse', 'said', 'Gradgrind', 'for'),\n",
       " ('horse', 'said', 'Gradgrind', 'for', 'the'),\n",
       " ('said', 'Gradgrind', 'for', 'the', 'general'),\n",
       " ('Gradgrind', 'for', 'the', 'general', 'behoof'),\n",
       " ('for', 'the', 'general', 'behoof', 'of'),\n",
       " ('the', 'general', 'behoof', 'of', 'all'),\n",
       " ('general', 'behoof', 'of', 'all', 'the'),\n",
       " ('behoof', 'of', 'all', 'the', 'little'),\n",
       " ('of', 'all', 'the', 'little', 'pitchers'),\n",
       " ('Girl', 'number', 'twenty', 'possessed', 'of'),\n",
       " ('number', 'twenty', 'possessed', 'of', 'no'),\n",
       " ('twenty', 'possessed', 'of', 'no', 'facts'),\n",
       " ('possessed', 'of', 'no', 'facts', 'in'),\n",
       " ('of', 'no', 'facts', 'in', 'reference'),\n",
       " ('no', 'facts', 'in', 'reference', 'to'),\n",
       " ('facts', 'in', 'reference', 'to', 'one'),\n",
       " ('in', 'reference', 'to', 'one', 'of'),\n",
       " ('reference', 'to', 'one', 'of', 'the'),\n",
       " ('to', 'one', 'of', 'the', 'commonest'),\n",
       " ('one', 'of', 'the', 'commonest', 'of'),\n",
       " ('of', 'the', 'commonest', 'of', 'animals'),\n",
       " ('Some', 'boy', 's', 'definition', 'of'),\n",
       " ('boy', 's', 'definition', 'of', 'a'),\n",
       " ('s', 'definition', 'of', 'a', 'horse'),\n",
       " ('Bitzer', 'The', 'square', 'finger', 'moving'),\n",
       " ('The', 'square', 'finger', 'moving', 'here'),\n",
       " ('square', 'finger', 'moving', 'here', 'and'),\n",
       " ('finger', 'moving', 'here', 'and', 'there'),\n",
       " ('moving', 'here', 'and', 'there', 'lighted'),\n",
       " ('here', 'and', 'there', 'lighted', 'suddenly'),\n",
       " ('and', 'there', 'lighted', 'suddenly', 'on'),\n",
       " ('there', 'lighted', 'suddenly', 'on', 'Bitzer'),\n",
       " ('lighted', 'suddenly', 'on', 'Bitzer', 'perhaps'),\n",
       " ('suddenly', 'on', 'Bitzer', 'perhaps', 'because'),\n",
       " ('on', 'Bitzer', 'perhaps', 'because', 'he'),\n",
       " ('Bitzer', 'perhaps', 'because', 'he', 'chanced'),\n",
       " ('perhaps', 'because', 'he', 'chanced', 'to'),\n",
       " ('because', 'he', 'chanced', 'to', 'sit'),\n",
       " ('he', 'chanced', 'to', 'sit', 'in'),\n",
       " ('chanced', 'to', 'sit', 'in', 'the'),\n",
       " ('to', 'sit', 'in', 'the', 'same'),\n",
       " ('sit', 'in', 'the', 'same', 'ray'),\n",
       " ('in', 'the', 'same', 'ray', 'of'),\n",
       " ('the', 'same', 'ray', 'of', 'sunlight'),\n",
       " ('same', 'ray', 'of', 'sunlight', 'which'),\n",
       " ('ray', 'of', 'sunlight', 'which', 'darting'),\n",
       " ('of', 'sunlight', 'which', 'darting', 'in'),\n",
       " ('sunlight', 'which', 'darting', 'in', 'at'),\n",
       " ('which', 'darting', 'in', 'at', 'one'),\n",
       " ('darting', 'in', 'at', 'one', 'of'),\n",
       " ('in', 'at', 'one', 'of', 'the'),\n",
       " ('at', 'one', 'of', 'the', 'bare'),\n",
       " ('one', 'of', 'the', 'bare', 'windows'),\n",
       " ('of', 'the', 'bare', 'windows', 'of'),\n",
       " ('the', 'bare', 'windows', 'of', 'the'),\n",
       " ('bare', 'windows', 'of', 'the', 'intensely'),\n",
       " ('windows', 'of', 'the', 'intensely', 'room'),\n",
       " ('of', 'the', 'intensely', 'room', 'irradiated'),\n",
       " ('the', 'intensely', 'room', 'irradiated', 'Sissy'),\n",
       " ('For', 'the', 'boys', 'and', 'girls'),\n",
       " ('the', 'boys', 'and', 'girls', 'sat'),\n",
       " ('boys', 'and', 'girls', 'sat', 'on'),\n",
       " ('and', 'girls', 'sat', 'on', 'the'),\n",
       " ('girls', 'sat', 'on', 'the', 'face'),\n",
       " ('sat', 'on', 'the', 'face', 'of'),\n",
       " ('on', 'the', 'face', 'of', 'the'),\n",
       " ('the', 'face', 'of', 'the', 'inclined'),\n",
       " ('face', 'of', 'the', 'inclined', 'plane'),\n",
       " ('of', 'the', 'inclined', 'plane', 'in'),\n",
       " ('the', 'inclined', 'plane', 'in', 'two'),\n",
       " ('inclined', 'plane', 'in', 'two', 'compact'),\n",
       " ('plane', 'in', 'two', 'compact', 'bodies'),\n",
       " ('in', 'two', 'compact', 'bodies', 'divided'),\n",
       " ('two', 'compact', 'bodies', 'divided', 'up'),\n",
       " ('compact', 'bodies', 'divided', 'up', 'the'),\n",
       " ('bodies', 'divided', 'up', 'the', 'centre'),\n",
       " ('divided', 'up', 'the', 'centre', 'by'),\n",
       " ('up', 'the', 'centre', 'by', 'a'),\n",
       " ('the', 'centre', 'by', 'a', 'narrow'),\n",
       " ('centre', 'by', 'a', 'narrow', 'interval'),\n",
       " ('by', 'a', 'narrow', 'interval', 'and'),\n",
       " ('a', 'narrow', 'interval', 'and', 'Sissy'),\n",
       " ('narrow', 'interval', 'and', 'Sissy', 'being'),\n",
       " ('interval', 'and', 'Sissy', 'being', 'at'),\n",
       " ('and', 'Sissy', 'being', 'at', 'the'),\n",
       " ('Sissy', 'being', 'at', 'the', 'corner'),\n",
       " ('being', 'at', 'the', 'corner', 'of'),\n",
       " ('at', 'the', 'corner', 'of', 'a'),\n",
       " ('the', 'corner', 'of', 'a', 'row'),\n",
       " ('corner', 'of', 'a', 'row', 'on'),\n",
       " ('of', 'a', 'row', 'on', 'the'),\n",
       " ('a', 'row', 'on', 'the', 'sunny'),\n",
       " ('row', 'on', 'the', 'sunny', 'side'),\n",
       " ('on', 'the', 'sunny', 'side', 'came'),\n",
       " ('the', 'sunny', 'side', 'came', 'in'),\n",
       " ('sunny', 'side', 'came', 'in', 'for'),\n",
       " ('side', 'came', 'in', 'for', 'the'),\n",
       " ('came', 'in', 'for', 'the', 'beginning'),\n",
       " ('in', 'for', 'the', 'beginning', 'of'),\n",
       " ('for', 'the', 'beginning', 'of', 'a'),\n",
       " ('the', 'beginning', 'of', 'a', 'sunbeam'),\n",
       " ('beginning', 'of', 'a', 'sunbeam', 'of'),\n",
       " ('of', 'a', 'sunbeam', 'of', 'which'),\n",
       " ('a', 'sunbeam', 'of', 'which', 'Bitzer'),\n",
       " ('sunbeam', 'of', 'which', 'Bitzer', 'being'),\n",
       " ('of', 'which', 'Bitzer', 'being', 'at'),\n",
       " ('which', 'Bitzer', 'being', 'at', 'the'),\n",
       " ('Bitzer', 'being', 'at', 'the', 'corner'),\n",
       " ('being', 'at', 'the', 'corner', 'of'),\n",
       " ('at', 'the', 'corner', 'of', 'a'),\n",
       " ('the', 'corner', 'of', 'a', 'row'),\n",
       " ('corner', 'of', 'a', 'row', 'on'),\n",
       " ('of', 'a', 'row', 'on', 'the'),\n",
       " ('a', 'row', 'on', 'the', 'other'),\n",
       " ('row', 'on', 'the', 'other', 'side'),\n",
       " ('on', 'the', 'other', 'side', 'a'),\n",
       " ('the', 'other', 'side', 'a', 'few'),\n",
       " ('other', 'side', 'a', 'few', 'rows'),\n",
       " ('side', 'a', 'few', 'rows', 'in'),\n",
       " ('a', 'few', 'rows', 'in', 'advance'),\n",
       " ('few', 'rows', 'in', 'advance', 'caught'),\n",
       " ('rows', 'in', 'advance', 'caught', 'the'),\n",
       " ('in', 'advance', 'caught', 'the', 'end'),\n",
       " ('But', 'whereas', 'the', 'girl', 'was'),\n",
       " ('whereas', 'the', 'girl', 'was', 'so'),\n",
       " ('the', 'girl', 'was', 'so', 'and'),\n",
       " ('girl', 'was', 'so', 'and', 'that'),\n",
       " ('was', 'so', 'and', 'that', 'she'),\n",
       " ('so', 'and', 'that', 'she', 'seemed'),\n",
       " ('and', 'that', 'she', 'seemed', 'to'),\n",
       " ('that', 'she', 'seemed', 'to', 'receive'),\n",
       " ('she', 'seemed', 'to', 'receive', 'a'),\n",
       " ('seemed', 'to', 'receive', 'a', 'deeper'),\n",
       " ('to', 'receive', 'a', 'deeper', 'and'),\n",
       " ('receive', 'a', 'deeper', 'and', 'more'),\n",
       " ('a', 'deeper', 'and', 'more', 'lustrous'),\n",
       " ('deeper', 'and', 'more', 'lustrous', 'colour'),\n",
       " ('and', 'more', 'lustrous', 'colour', 'from'),\n",
       " ('more', 'lustrous', 'colour', 'from', 'the'),\n",
       " ('lustrous', 'colour', 'from', 'the', 'sun'),\n",
       " ('colour', 'from', 'the', 'sun', 'when'),\n",
       " ('from', 'the', 'sun', 'when', 'it'),\n",
       " ('the', 'sun', 'when', 'it', 'shone'),\n",
       " ('sun', 'when', 'it', 'shone', 'upon'),\n",
       " ('when', 'it', 'shone', 'upon', 'her'),\n",
       " ('it', 'shone', 'upon', 'her', 'the'),\n",
       " ('shone', 'upon', 'her', 'the', 'boy'),\n",
       " ('upon', 'her', 'the', 'boy', 'was'),\n",
       " ('her', 'the', 'boy', 'was', 'so'),\n",
       " ('the', 'boy', 'was', 'so', 'and'),\n",
       " ('boy', 'was', 'so', 'and', 'that'),\n",
       " ('was', 'so', 'and', 'that', 'the'),\n",
       " ('so', 'and', 'that', 'the', 'rays'),\n",
       " ('and', 'that', 'the', 'rays', 'appeared'),\n",
       " ('that', 'the', 'rays', 'appeared', 'to'),\n",
       " ('the', 'rays', 'appeared', 'to', 'draw'),\n",
       " ('rays', 'appeared', 'to', 'draw', 'out'),\n",
       " ('appeared', 'to', 'draw', 'out', 'of'),\n",
       " ('to', 'draw', 'out', 'of', 'him'),\n",
       " ('draw', 'out', 'of', 'him', 'what'),\n",
       " ('out', 'of', 'him', 'what', 'little'),\n",
       " ('of', 'him', 'what', 'little', 'colour'),\n",
       " ('him', 'what', 'little', 'colour', 'he'),\n",
       " ('what', 'little', 'colour', 'he', 'ever'),\n",
       " ('little', 'colour', 'he', 'ever', 'possessed'),\n",
       " ('His', 'cold', 'eyes', 'would', 'hardly'),\n",
       " ('cold', 'eyes', 'would', 'hardly', 'have'),\n",
       " ('eyes', 'would', 'hardly', 'have', 'been'),\n",
       " ('would', 'hardly', 'have', 'been', 'eyes'),\n",
       " ('hardly', 'have', 'been', 'eyes', 'but'),\n",
       " ('have', 'been', 'eyes', 'but', 'for'),\n",
       " ('been', 'eyes', 'but', 'for', 'the'),\n",
       " ('eyes', 'but', 'for', 'the', 'short'),\n",
       " ('but', 'for', 'the', 'short', 'ends'),\n",
       " ('for', 'the', 'short', 'ends', 'of'),\n",
       " ('the', 'short', 'ends', 'of', 'lashes'),\n",
       " ('short', 'ends', 'of', 'lashes', 'which'),\n",
       " ('ends', 'of', 'lashes', 'which', 'by'),\n",
       " ('of', 'lashes', 'which', 'by', 'bringing'),\n",
       " ('lashes', 'which', 'by', 'bringing', 'them'),\n",
       " ('which', 'by', 'bringing', 'them', 'into'),\n",
       " ('by', 'bringing', 'them', 'into', 'immediate'),\n",
       " ('bringing', 'them', 'into', 'immediate', 'contrast'),\n",
       " ('them', 'into', 'immediate', 'contrast', 'with'),\n",
       " ('into', 'immediate', 'contrast', 'with', 'something'),\n",
       " ...]"
      ]
     },
     "execution_count": 56,
     "metadata": {},
     "output_type": "execute_result"
    }
   ],
   "source": [
    "from nltk import ngrams\n",
    "\n",
    "fivegrams = []\n",
    "for t in tokens:\n",
    "    fivegrams += nltk.ngrams((w for w in t if w.isalpha()), 5)\n",
    "fivegrams[:5]"
   ]
  },
  {
   "cell_type": "code",
   "execution_count": 57,
   "metadata": {},
   "outputs": [
    {
     "name": "stdout",
     "output_type": "stream",
     "text": [
      "in this preparatory lesson not\n"
     ]
    }
   ],
   "source": [
    "print (' '.join(fivegrams[2000]))"
   ]
  },
  {
   "cell_type": "markdown",
   "metadata": {},
   "source": [
    "Create a dictionary to count occurrences of specific 5-grams."
   ]
  },
  {
   "cell_type": "code",
   "execution_count": 58,
   "metadata": {},
   "outputs": [],
   "source": [
    "D = {}\n",
    "for gram in fivegrams:\n",
    "    if not D.get(gram):\n",
    "        D[gram] = 1\n",
    "    else:\n",
    "        D[gram] += 1"
   ]
  },
  {
   "cell_type": "markdown",
   "metadata": {},
   "source": [
    "Iterate through the keys of the dictionary and print out and 5-grams that have more than 3 occurrences in the text."
   ]
  },
  {
   "cell_type": "code",
   "execution_count": 59,
   "metadata": {},
   "outputs": [
    {
     "name": "stdout",
     "output_type": "stream",
     "text": [
      "The emphasis was helped by 4\n",
      "emphasis was helped by the 4\n",
      "was helped by the speaker 4\n",
      "helped by the speaker s 4\n",
      "No little Gradgrind had ever 4\n",
      "with his hands in his 6\n",
      "his hands in his pockets 8\n",
      "I ll tell you what 4\n",
      "can t be alwayth a 4\n",
      "sir returned Sparsit with a 5\n",
      "I don t know what 9\n",
      "turtle soup and venison with 4\n",
      "soup and venison with a 4\n",
      "and venison with a gold 4\n",
      "venison with a gold spoon 4\n",
      "s a law to punish 4\n",
      "a law to punish me 4\n",
      "I hope you may be 5\n",
      "I am Josiah Bounderby of 4\n",
      "am Josiah Bounderby of Coketown 4\n",
      "as if she would have 4\n",
      "don t know what you 4\n",
      "I don t want to 5\n",
      "of this town and I 4\n",
      "this town and I know 4\n",
      "town and I know the 4\n",
      "was the man and why 4\n",
      "the man and why did 4\n",
      "man and why did he 4\n",
      "and why did he not 4\n",
      "why did he not come 4\n",
      "did he not come back 4\n",
      "the terms of this agreement 7\n",
      "Project Gutenberg Literary Archive Foundation 13\n",
      "to the Project Gutenberg Literary 6\n",
      "the Project Gutenberg Literary Archive 11\n"
     ]
    }
   ],
   "source": [
    "for gram in D.keys():\n",
    "    if D[gram] > 3:\n",
    "        print (' '.join(gram), D[gram])"
   ]
  },
  {
   "cell_type": "markdown",
   "metadata": {},
   "source": [
    "Now we can try to find the occurrences of one of the 5-grams, 'vension with a gold spoon', in the original text."
   ]
  },
  {
   "cell_type": "code",
   "execution_count": 60,
   "metadata": {},
   "outputs": [
    {
     "data": {
      "text/plain": [
       "250056"
      ]
     },
     "execution_count": 60,
     "metadata": {},
     "output_type": "execute_result"
    }
   ],
   "source": [
    "hard_times_raw_text.find('venison with a gold spoon')"
   ]
  },
  {
   "cell_type": "code",
   "execution_count": 61,
   "metadata": {},
   "outputs": [
    {
     "name": "stdout",
     "output_type": "stream",
     "text": [
      "\n",
      "That object is, to be fed on turtle soup and venison with a gold spoon.\n"
     ]
    }
   ],
   "source": [
    "print (hard_times_raw_text[250010:250082])"
   ]
  },
  {
   "cell_type": "code",
   "execution_count": 62,
   "metadata": {},
   "outputs": [
    {
     "data": {
      "text/plain": [
       "250156"
      ]
     },
     "execution_count": 62,
     "metadata": {},
     "output_type": "execute_result"
    }
   ],
   "source": [
    "hard_times_raw_text.find('venison with a gold spoon',250057)"
   ]
  },
  {
   "cell_type": "code",
   "execution_count": 63,
   "metadata": {},
   "outputs": [
    {
     "name": "stdout",
     "output_type": "stream",
     "text": [
      "Now, they’re not a-going—none of ’em—ever to be fed on turtle soup and\r\n",
      "venison with a gold spoon.\n"
     ]
    }
   ],
   "source": [
    "print (hard_times_raw_text[250084:250182])"
   ]
  },
  {
   "cell_type": "markdown",
   "metadata": {},
   "source": [
    "We only find 2, instead of the 4 we counted, though. Probably an issue of punctuation."
   ]
  },
  {
   "cell_type": "code",
   "execution_count": 64,
   "metadata": {},
   "outputs": [
    {
     "data": {
      "text/plain": [
       "-1"
      ]
     },
     "execution_count": 64,
     "metadata": {},
     "output_type": "execute_result"
    }
   ],
   "source": [
    "hard_times_raw_text.find('venison with a gold spoon', 250157)"
   ]
  },
  {
   "cell_type": "code",
   "execution_count": 65,
   "metadata": {},
   "outputs": [
    {
     "data": {
      "text/plain": [
       "39377"
      ]
     },
     "execution_count": 65,
     "metadata": {},
     "output_type": "execute_result"
    }
   ],
   "source": [
    "five_gram_2 = 'his hands in his pockets'\n",
    "hard_times_raw_text.find(five_gram_2)"
   ]
  },
  {
   "cell_type": "code",
   "execution_count": 66,
   "metadata": {},
   "outputs": [
    {
     "data": {
      "text/plain": [
       "41788"
      ]
     },
     "execution_count": 66,
     "metadata": {},
     "output_type": "execute_result"
    }
   ],
   "source": [
    "hard_times_raw_text.find(five_gram_2, 39378)"
   ]
  },
  {
   "cell_type": "code",
   "execution_count": 67,
   "metadata": {},
   "outputs": [
    {
     "data": {
      "text/plain": [
       "58759"
      ]
     },
     "execution_count": 67,
     "metadata": {},
     "output_type": "execute_result"
    }
   ],
   "source": [
    "hard_times_raw_text.find(five_gram_2, 41789)"
   ]
  },
  {
   "cell_type": "code",
   "execution_count": 68,
   "metadata": {},
   "outputs": [
    {
     "data": {
      "text/plain": [
       "476235"
      ]
     },
     "execution_count": 68,
     "metadata": {},
     "output_type": "execute_result"
    }
   ],
   "source": [
    "hard_times_raw_text.find(five_gram_2, 58760)"
   ]
  },
  {
   "cell_type": "code",
   "execution_count": 69,
   "metadata": {},
   "outputs": [
    {
     "data": {
      "text/plain": [
       "514354"
      ]
     },
     "execution_count": 69,
     "metadata": {},
     "output_type": "execute_result"
    }
   ],
   "source": [
    "hard_times_raw_text.find(five_gram_2, 476236)"
   ]
  },
  {
   "cell_type": "code",
   "execution_count": 70,
   "metadata": {},
   "outputs": [
    {
     "data": {
      "text/plain": [
       "-1"
      ]
     },
     "execution_count": 70,
     "metadata": {},
     "output_type": "execute_result"
    }
   ],
   "source": [
    "hard_times_raw_text.find(five_gram_2, 514355)"
   ]
  },
  {
   "cell_type": "markdown",
   "metadata": {},
   "source": [
    "Now we will try to reproduce Table 3.3 on p.47 of [MM]."
   ]
  },
  {
   "cell_type": "code",
   "execution_count": 90,
   "metadata": {},
   "outputs": [
    {
     "name": "stderr",
     "output_type": "stream",
     "text": [
      "C:\\Users\\A1825\\AppData\\Local\\Continuum\\anaconda3\\lib\\site-packages\\ipykernel_launcher.py:3: DeprecationWarning: generator 'ngrams' raised StopIteration\n",
      "  This is separate from the ipykernel package so we can avoid doing imports until\n"
     ]
    },
    {
     "data": {
      "text/plain": [
       "[('Project', 'Gutenberg'),\n",
       " ('Gutenberg', 'EBook'),\n",
       " ('EBook', 'of'),\n",
       " ('of', 'David'),\n",
       " ('David', 'Copperfield')]"
      ]
     },
     "execution_count": 90,
     "metadata": {},
     "output_type": "execute_result"
    }
   ],
   "source": [
    "DC_bigrams = []\n",
    "for t in DC_tokens:\n",
    "    DC_bigrams += nltk.ngrams((w for w in t if w.isalpha()), 2)\n",
    "DC_bigrams[:5]"
   ]
  },
  {
   "cell_type": "code",
   "execution_count": 72,
   "metadata": {},
   "outputs": [],
   "source": [
    "DC_D = {}\n",
    "for gram in DC_bigrams:\n",
    "    if not DC_D.get(gram):\n",
    "        DC_D[gram] = 1\n",
    "    else:\n",
    "        DC_D[gram] += 1"
   ]
  },
  {
   "cell_type": "code",
   "execution_count": 73,
   "metadata": {},
   "outputs": [
    {
     "name": "stdout",
     "output_type": "stream",
     "text": [
      "of the 1391\n",
      "in the 1524\n",
      "that I 920\n",
      "I am 815\n",
      "I have 712\n",
      "at the 529\n",
      "with a 617\n",
      "it was 581\n",
      "I was 961\n",
      "I had 894\n",
      "of my 547\n",
      "to be 852\n",
      "and I 703\n",
      "on the 662\n",
      "in a 697\n",
      "to the 765\n",
      "to me 613\n",
      "my aunt 635\n"
     ]
    }
   ],
   "source": [
    "for gram in DC_D.keys():\n",
    "    if DC_D[gram] > 500:\n",
    "        print (' '.join(gram), DC_D[gram])"
   ]
  },
  {
   "cell_type": "code",
   "execution_count": 91,
   "metadata": {},
   "outputs": [
    {
     "name": "stderr",
     "output_type": "stream",
     "text": [
      "C:\\Users\\A1825\\AppData\\Local\\Continuum\\anaconda3\\lib\\site-packages\\ipykernel_launcher.py:3: DeprecationWarning: generator 'ngrams' raised StopIteration\n",
      "  This is separate from the ipykernel package so we can avoid doing imports until\n"
     ]
    },
    {
     "data": {
      "text/plain": [
       "[('Project', 'Gutenberg', 'EBook'),\n",
       " ('Gutenberg', 'EBook', 'of'),\n",
       " ('EBook', 'of', 'David'),\n",
       " ('of', 'David', 'Copperfield'),\n",
       " ('David', 'Copperfield', 'by')]"
      ]
     },
     "execution_count": 91,
     "metadata": {},
     "output_type": "execute_result"
    }
   ],
   "source": [
    "DC_trigrams = []\n",
    "for t in DC_tokens:\n",
    "    DC_trigrams += nltk.ngrams((w for w in t if w.isalpha()), 3)\n",
    "DC_trigrams[:5]"
   ]
  },
  {
   "cell_type": "code",
   "execution_count": 75,
   "metadata": {},
   "outputs": [],
   "source": [
    "DC_D_3 = {}\n",
    "for gram in DC_trigrams:\n",
    "    if not DC_D_3.get(gram):\n",
    "        DC_D_3[gram] = 1\n",
    "    else:\n",
    "        DC_D_3[gram] += 1"
   ]
  },
  {
   "cell_type": "code",
   "execution_count": 76,
   "metadata": {},
   "outputs": [
    {
     "name": "stdout",
     "output_type": "stream",
     "text": [
      "as if he 81\n",
      "I can not 65\n",
      "that I was 125\n",
      "I have been 74\n",
      "I don t 248\n",
      "don t know 136\n",
      "that she was 62\n",
      "that it was 83\n",
      "out of the 124\n",
      "I am sure 104\n",
      "a good deal 71\n",
      "I should have 71\n",
      "said my aunt 219\n",
      "there was a 74\n",
      "I had been 86\n",
      "I could not 128\n",
      "if I had 78\n",
      "that I had 91\n",
      "one of the 65\n",
      "Mas r Davy 112\n",
      "little Em ly 68\n",
      "I am not 77\n"
     ]
    }
   ],
   "source": [
    "for gram in DC_D_3.keys():\n",
    "    if DC_D_3[gram] > 60:\n",
    "        print (' '.join(gram), DC_D_3[gram])"
   ]
  },
  {
   "cell_type": "code",
   "execution_count": 92,
   "metadata": {},
   "outputs": [
    {
     "name": "stderr",
     "output_type": "stream",
     "text": [
      "C:\\Users\\A1825\\AppData\\Local\\Continuum\\anaconda3\\lib\\site-packages\\ipykernel_launcher.py:3: DeprecationWarning: generator 'ngrams' raised StopIteration\n",
      "  This is separate from the ipykernel package so we can avoid doing imports until\n"
     ]
    },
    {
     "data": {
      "text/plain": [
       "[('Project', 'Gutenberg', 'EBook', 'of'),\n",
       " ('Gutenberg', 'EBook', 'of', 'David'),\n",
       " ('EBook', 'of', 'David', 'Copperfield'),\n",
       " ('of', 'David', 'Copperfield', 'by'),\n",
       " ('David', 'Copperfield', 'by', 'Charles')]"
      ]
     },
     "execution_count": 92,
     "metadata": {},
     "output_type": "execute_result"
    }
   ],
   "source": [
    "DC_fourgrams = []\n",
    "for t in DC_tokens:\n",
    "    DC_fourgrams += nltk.ngrams((w for w in t if w.isalpha()), 4)\n",
    "DC_fourgrams[:5]"
   ]
  },
  {
   "cell_type": "code",
   "execution_count": 78,
   "metadata": {},
   "outputs": [],
   "source": [
    "DC_D_4 = {}\n",
    "for gram in DC_fourgrams:\n",
    "    if not DC_D_4.get(gram):\n",
    "        DC_D_4[gram] = 1\n",
    "    else:\n",
    "        DC_D_4[gram] += 1"
   ]
  },
  {
   "cell_type": "code",
   "execution_count": 79,
   "metadata": {},
   "outputs": [
    {
     "name": "stdout",
     "output_type": "stream",
     "text": [
      "as if he were 30\n",
      "I don t know 124\n",
      "as if it were 28\n",
      "don t know what 41\n",
      "I have no doubt 32\n",
      "for a little while 24\n",
      "a good deal of 28\n",
      "I beg your pardon 21\n",
      "in a state of 23\n",
      "as if he had 19\n",
      "as well as I 22\n",
      "for a long time 23\n",
      "I could not help 32\n",
      "it would have been 21\n",
      "I am sure I 29\n",
      "in the course of 28\n",
      "don t know how 20\n",
      "as if I had 25\n",
      "Mas r Davy he 21\n"
     ]
    }
   ],
   "source": [
    "for gram in DC_D_4.keys():\n",
    "    if DC_D_4[gram] > 18:\n",
    "        print (' '.join(gram), DC_D_4[gram])"
   ]
  },
  {
   "cell_type": "markdown",
   "metadata": {},
   "source": [
    "By comparison with [MM] there is a problem in how I am handling punctuation. For example, I record the most frequent four gram as \"I do know what\" but in [MM] it is \"I don't know what\"."
   ]
  },
  {
   "cell_type": "code",
   "execution_count": 80,
   "metadata": {},
   "outputs": [
    {
     "data": {
      "text/plain": [
       "-1"
      ]
     },
     "execution_count": 80,
     "metadata": {},
     "output_type": "execute_result"
    }
   ],
   "source": [
    "david_copperfield_raw_text.find(\"I do know what\")"
   ]
  },
  {
   "cell_type": "code",
   "execution_count": 81,
   "metadata": {},
   "outputs": [
    {
     "data": {
      "text/plain": [
       "-1"
      ]
     },
     "execution_count": 81,
     "metadata": {},
     "output_type": "execute_result"
    }
   ],
   "source": [
    "david_copperfield_raw_text.find(\"I don't know what\")"
   ]
  },
  {
   "cell_type": "code",
   "execution_count": 82,
   "metadata": {},
   "outputs": [
    {
     "name": "stdout",
     "output_type": "stream",
     "text": [
      "a tremble,’ faltered my mother. \n"
     ]
    }
   ],
   "source": [
    "print (david_copperfield_raw_text[19264:19296])"
   ]
  }
 ],
 "metadata": {
  "kernelspec": {
   "display_name": "Python 3",
   "language": "python",
   "name": "python3"
  },
  "language_info": {
   "codemirror_mode": {
    "name": "ipython",
    "version": 3
   },
   "file_extension": ".py",
   "mimetype": "text/x-python",
   "name": "python",
   "nbconvert_exporter": "python",
   "pygments_lexer": "ipython3",
   "version": "3.6.5"
  }
 },
 "nbformat": 4,
 "nbformat_minor": 1
}
